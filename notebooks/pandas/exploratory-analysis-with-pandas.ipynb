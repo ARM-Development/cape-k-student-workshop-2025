{
 "cells": [
  {
   "cell_type": "markdown",
   "id": "29c94824-75b9-4a19-867f-e201aedd3e91",
   "metadata": {},
   "source": [
    "<center><img src=\"https://github.com/pandas-dev/pandas/raw/main/web/pandas/static/img/pandas.svg\" alt=\"pandas Logo\" style=\"width: 800px;\"/></center>\n",
    "\n",
    "# Exploratory Analysis with Pandas"
   ]
  },
  {
   "cell_type": "markdown",
   "id": "6b158bed-a83e-4dea-9b45-057abed60386",
   "metadata": {},
   "source": [
    "## Overview\n",
    "1. Data Access and Reading\n",
    "1. Understanding the Pandas Data Structure\n",
    "1. Exploratory Data Analysis\n",
    "\n",
    "## Prerequisites\n",
    "\n",
    "| Concepts | Importance | Notes |\n",
    "| --- | --- | --- |\n",
    "| [Python Quickstart](../../foundations/quickstart) | Necessary | Intro to `dict` |\n",
    "| [Numpy Basics](../numpy/numpy-basics) | Necessary | |\n",
    "\n",
    "* **Time to learn**: 30 minutes"
   ]
  },
  {
   "cell_type": "markdown",
   "id": "366eef66-be17-45cf-a31c-32737f9cd09a",
   "metadata": {},
   "source": [
    "## Imports"
   ]
  },
  {
   "cell_type": "code",
   "execution_count": 1,
   "id": "ee6c1e64-c987-4aeb-b4ad-70fb95687705",
   "metadata": {},
   "outputs": [],
   "source": [
    "import pandas as pd"
   ]
  },
  {
   "cell_type": "markdown",
   "id": "a626f0ed-c89d-4d04-953d-1556a54a5e0d",
   "metadata": {},
   "source": [
    "## Data Access and Reading\n",
    "The data for this example/notebook is available from the CSIRO Kennaook/Cape Grim page\n",
    "https://www.csiro.au/en/research/natural-environment/atmosphere/latest-greenhouse-gas-data\n",
    "\n",
    "More details on the science motivation, data overview, and data citation practices are available on that website. We staged data for you locally in preparation for this workshop - which would be the same as going to the page, downloading, and uploading to this Jupyterhub Space."
   ]
  },
  {
   "cell_type": "markdown",
   "id": "977b4fd0-f8c2-4036-a2f6-2ccfed9b6516",
   "metadata": {},
   "source": [
    "### Try Reading the Data with Pandas"
   ]
  },
  {
   "cell_type": "code",
   "execution_count": 2,
   "id": "62747147-33f9-4166-a1d2-a0cae7e50524",
   "metadata": {
    "scrolled": true
   },
   "outputs": [
    {
     "ename": "UnicodeDecodeError",
     "evalue": "'utf-8' codec can't decode byte 0x91 in position 38419: invalid start byte",
     "output_type": "error",
     "traceback": [
      "\u001b[0;31m---------------------------------------------------------------------------\u001b[0m",
      "\u001b[0;31mUnicodeDecodeError\u001b[0m                        Traceback (most recent call last)",
      "Cell \u001b[0;32mIn[2], line 1\u001b[0m\n\u001b[0;32m----> 1\u001b[0m df \u001b[38;5;241m=\u001b[39m \u001b[43mpd\u001b[49m\u001b[38;5;241;43m.\u001b[39;49m\u001b[43mread_csv\u001b[49m\u001b[43m(\u001b[49m\u001b[38;5;124;43m\"\u001b[39;49m\u001b[38;5;124;43m../data/CapeGrim_CO2_data_download.csv\u001b[39;49m\u001b[38;5;124;43m\"\u001b[39;49m\u001b[43m)\u001b[49m\n",
      "File \u001b[0;32m~/mambaforge/envs/cape-k-student-workshop-2025-dev/lib/python3.12/site-packages/pandas/io/parsers/readers.py:1026\u001b[0m, in \u001b[0;36mread_csv\u001b[0;34m(filepath_or_buffer, sep, delimiter, header, names, index_col, usecols, dtype, engine, converters, true_values, false_values, skipinitialspace, skiprows, skipfooter, nrows, na_values, keep_default_na, na_filter, verbose, skip_blank_lines, parse_dates, infer_datetime_format, keep_date_col, date_parser, date_format, dayfirst, cache_dates, iterator, chunksize, compression, thousands, decimal, lineterminator, quotechar, quoting, doublequote, escapechar, comment, encoding, encoding_errors, dialect, on_bad_lines, delim_whitespace, low_memory, memory_map, float_precision, storage_options, dtype_backend)\u001b[0m\n\u001b[1;32m   1013\u001b[0m kwds_defaults \u001b[38;5;241m=\u001b[39m _refine_defaults_read(\n\u001b[1;32m   1014\u001b[0m     dialect,\n\u001b[1;32m   1015\u001b[0m     delimiter,\n\u001b[0;32m   (...)\u001b[0m\n\u001b[1;32m   1022\u001b[0m     dtype_backend\u001b[38;5;241m=\u001b[39mdtype_backend,\n\u001b[1;32m   1023\u001b[0m )\n\u001b[1;32m   1024\u001b[0m kwds\u001b[38;5;241m.\u001b[39mupdate(kwds_defaults)\n\u001b[0;32m-> 1026\u001b[0m \u001b[38;5;28;01mreturn\u001b[39;00m \u001b[43m_read\u001b[49m\u001b[43m(\u001b[49m\u001b[43mfilepath_or_buffer\u001b[49m\u001b[43m,\u001b[49m\u001b[43m \u001b[49m\u001b[43mkwds\u001b[49m\u001b[43m)\u001b[49m\n",
      "File \u001b[0;32m~/mambaforge/envs/cape-k-student-workshop-2025-dev/lib/python3.12/site-packages/pandas/io/parsers/readers.py:620\u001b[0m, in \u001b[0;36m_read\u001b[0;34m(filepath_or_buffer, kwds)\u001b[0m\n\u001b[1;32m    617\u001b[0m _validate_names(kwds\u001b[38;5;241m.\u001b[39mget(\u001b[38;5;124m\"\u001b[39m\u001b[38;5;124mnames\u001b[39m\u001b[38;5;124m\"\u001b[39m, \u001b[38;5;28;01mNone\u001b[39;00m))\n\u001b[1;32m    619\u001b[0m \u001b[38;5;66;03m# Create the parser.\u001b[39;00m\n\u001b[0;32m--> 620\u001b[0m parser \u001b[38;5;241m=\u001b[39m \u001b[43mTextFileReader\u001b[49m\u001b[43m(\u001b[49m\u001b[43mfilepath_or_buffer\u001b[49m\u001b[43m,\u001b[49m\u001b[43m \u001b[49m\u001b[38;5;241;43m*\u001b[39;49m\u001b[38;5;241;43m*\u001b[39;49m\u001b[43mkwds\u001b[49m\u001b[43m)\u001b[49m\n\u001b[1;32m    622\u001b[0m \u001b[38;5;28;01mif\u001b[39;00m chunksize \u001b[38;5;129;01mor\u001b[39;00m iterator:\n\u001b[1;32m    623\u001b[0m     \u001b[38;5;28;01mreturn\u001b[39;00m parser\n",
      "File \u001b[0;32m~/mambaforge/envs/cape-k-student-workshop-2025-dev/lib/python3.12/site-packages/pandas/io/parsers/readers.py:1620\u001b[0m, in \u001b[0;36mTextFileReader.__init__\u001b[0;34m(self, f, engine, **kwds)\u001b[0m\n\u001b[1;32m   1617\u001b[0m     \u001b[38;5;28mself\u001b[39m\u001b[38;5;241m.\u001b[39moptions[\u001b[38;5;124m\"\u001b[39m\u001b[38;5;124mhas_index_names\u001b[39m\u001b[38;5;124m\"\u001b[39m] \u001b[38;5;241m=\u001b[39m kwds[\u001b[38;5;124m\"\u001b[39m\u001b[38;5;124mhas_index_names\u001b[39m\u001b[38;5;124m\"\u001b[39m]\n\u001b[1;32m   1619\u001b[0m \u001b[38;5;28mself\u001b[39m\u001b[38;5;241m.\u001b[39mhandles: IOHandles \u001b[38;5;241m|\u001b[39m \u001b[38;5;28;01mNone\u001b[39;00m \u001b[38;5;241m=\u001b[39m \u001b[38;5;28;01mNone\u001b[39;00m\n\u001b[0;32m-> 1620\u001b[0m \u001b[38;5;28mself\u001b[39m\u001b[38;5;241m.\u001b[39m_engine \u001b[38;5;241m=\u001b[39m \u001b[38;5;28;43mself\u001b[39;49m\u001b[38;5;241;43m.\u001b[39;49m\u001b[43m_make_engine\u001b[49m\u001b[43m(\u001b[49m\u001b[43mf\u001b[49m\u001b[43m,\u001b[49m\u001b[43m \u001b[49m\u001b[38;5;28;43mself\u001b[39;49m\u001b[38;5;241;43m.\u001b[39;49m\u001b[43mengine\u001b[49m\u001b[43m)\u001b[49m\n",
      "File \u001b[0;32m~/mambaforge/envs/cape-k-student-workshop-2025-dev/lib/python3.12/site-packages/pandas/io/parsers/readers.py:1898\u001b[0m, in \u001b[0;36mTextFileReader._make_engine\u001b[0;34m(self, f, engine)\u001b[0m\n\u001b[1;32m   1895\u001b[0m     \u001b[38;5;28;01mraise\u001b[39;00m \u001b[38;5;167;01mValueError\u001b[39;00m(msg)\n\u001b[1;32m   1897\u001b[0m \u001b[38;5;28;01mtry\u001b[39;00m:\n\u001b[0;32m-> 1898\u001b[0m     \u001b[38;5;28;01mreturn\u001b[39;00m \u001b[43mmapping\u001b[49m\u001b[43m[\u001b[49m\u001b[43mengine\u001b[49m\u001b[43m]\u001b[49m\u001b[43m(\u001b[49m\u001b[43mf\u001b[49m\u001b[43m,\u001b[49m\u001b[43m \u001b[49m\u001b[38;5;241;43m*\u001b[39;49m\u001b[38;5;241;43m*\u001b[39;49m\u001b[38;5;28;43mself\u001b[39;49m\u001b[38;5;241;43m.\u001b[39;49m\u001b[43moptions\u001b[49m\u001b[43m)\u001b[49m\n\u001b[1;32m   1899\u001b[0m \u001b[38;5;28;01mexcept\u001b[39;00m \u001b[38;5;167;01mException\u001b[39;00m:\n\u001b[1;32m   1900\u001b[0m     \u001b[38;5;28;01mif\u001b[39;00m \u001b[38;5;28mself\u001b[39m\u001b[38;5;241m.\u001b[39mhandles \u001b[38;5;129;01mis\u001b[39;00m \u001b[38;5;129;01mnot\u001b[39;00m \u001b[38;5;28;01mNone\u001b[39;00m:\n",
      "File \u001b[0;32m~/mambaforge/envs/cape-k-student-workshop-2025-dev/lib/python3.12/site-packages/pandas/io/parsers/c_parser_wrapper.py:93\u001b[0m, in \u001b[0;36mCParserWrapper.__init__\u001b[0;34m(self, src, **kwds)\u001b[0m\n\u001b[1;32m     90\u001b[0m \u001b[38;5;28;01mif\u001b[39;00m kwds[\u001b[38;5;124m\"\u001b[39m\u001b[38;5;124mdtype_backend\u001b[39m\u001b[38;5;124m\"\u001b[39m] \u001b[38;5;241m==\u001b[39m \u001b[38;5;124m\"\u001b[39m\u001b[38;5;124mpyarrow\u001b[39m\u001b[38;5;124m\"\u001b[39m:\n\u001b[1;32m     91\u001b[0m     \u001b[38;5;66;03m# Fail here loudly instead of in cython after reading\u001b[39;00m\n\u001b[1;32m     92\u001b[0m     import_optional_dependency(\u001b[38;5;124m\"\u001b[39m\u001b[38;5;124mpyarrow\u001b[39m\u001b[38;5;124m\"\u001b[39m)\n\u001b[0;32m---> 93\u001b[0m \u001b[38;5;28mself\u001b[39m\u001b[38;5;241m.\u001b[39m_reader \u001b[38;5;241m=\u001b[39m \u001b[43mparsers\u001b[49m\u001b[38;5;241;43m.\u001b[39;49m\u001b[43mTextReader\u001b[49m\u001b[43m(\u001b[49m\u001b[43msrc\u001b[49m\u001b[43m,\u001b[49m\u001b[43m \u001b[49m\u001b[38;5;241;43m*\u001b[39;49m\u001b[38;5;241;43m*\u001b[39;49m\u001b[43mkwds\u001b[49m\u001b[43m)\u001b[49m\n\u001b[1;32m     95\u001b[0m \u001b[38;5;28mself\u001b[39m\u001b[38;5;241m.\u001b[39munnamed_cols \u001b[38;5;241m=\u001b[39m \u001b[38;5;28mself\u001b[39m\u001b[38;5;241m.\u001b[39m_reader\u001b[38;5;241m.\u001b[39munnamed_cols\n\u001b[1;32m     97\u001b[0m \u001b[38;5;66;03m# error: Cannot determine type of 'names'\u001b[39;00m\n",
      "File \u001b[0;32mparsers.pyx:574\u001b[0m, in \u001b[0;36mpandas._libs.parsers.TextReader.__cinit__\u001b[0;34m()\u001b[0m\n",
      "File \u001b[0;32mparsers.pyx:663\u001b[0m, in \u001b[0;36mpandas._libs.parsers.TextReader._get_header\u001b[0;34m()\u001b[0m\n",
      "File \u001b[0;32mparsers.pyx:874\u001b[0m, in \u001b[0;36mpandas._libs.parsers.TextReader._tokenize_rows\u001b[0;34m()\u001b[0m\n",
      "File \u001b[0;32mparsers.pyx:891\u001b[0m, in \u001b[0;36mpandas._libs.parsers.TextReader._check_tokenize_status\u001b[0;34m()\u001b[0m\n",
      "File \u001b[0;32mparsers.pyx:2053\u001b[0m, in \u001b[0;36mpandas._libs.parsers.raise_parser_error\u001b[0;34m()\u001b[0m\n",
      "File \u001b[0;32m<frozen codecs>:322\u001b[0m, in \u001b[0;36mdecode\u001b[0;34m(self, input, final)\u001b[0m\n",
      "\u001b[0;31mUnicodeDecodeError\u001b[0m: 'utf-8' codec can't decode byte 0x91 in position 38419: invalid start byte"
     ]
    }
   ],
   "source": [
    "df = pd.read_csv(\"../data/CapeGrim_CO2_data_download.csv\")"
   ]
  },
  {
   "cell_type": "markdown",
   "id": "40349624-862f-42ad-8c38-5a38ed52d9a2",
   "metadata": {},
   "source": [
    "### Troubleshooting the Data Reading\n",
    "By default, we cannot read the data! We need to pass more information to pandas to be able to read the data. For example, if we open the file with a text reader, we notice there is a good amount of **metadata** at the top of the file\n",
    "\n",
    "**Metadata: Data about our data. This provides helpful links, when data was processed, and units. All of this data is critical to understanding our data before we perform analysis.**"
   ]
  },
  {
   "cell_type": "code",
   "execution_count": 3,
   "id": "3fb7e42a-b82c-4185-86a5-b33145295018",
   "metadata": {},
   "outputs": [
    {
     "name": "stderr",
     "output_type": "stream",
     "text": [
      "/var/folders/bw/c9j8z20x45s2y20vv6528qjc0000gq/T/ipykernel_85673/2633201338.py:1: ParserWarning: Falling back to the 'python' engine because the 'c' engine does not support skipfooter; you can avoid this warning by specifying engine='python'.\n",
      "  df = pd.read_csv(\"../data/CapeGrim_CO2_data_download.csv\",\n"
     ]
    },
    {
     "data": {
      "text/html": [
       "<div>\n",
       "<style scoped>\n",
       "    .dataframe tbody tr th:only-of-type {\n",
       "        vertical-align: middle;\n",
       "    }\n",
       "\n",
       "    .dataframe tbody tr th {\n",
       "        vertical-align: top;\n",
       "    }\n",
       "\n",
       "    .dataframe thead th {\n",
       "        text-align: right;\n",
       "    }\n",
       "</style>\n",
       "<table border=\"1\" class=\"dataframe\">\n",
       "  <thead>\n",
       "    <tr style=\"text-align: right;\">\n",
       "      <th></th>\n",
       "      <th>YYYY</th>\n",
       "      <th>MM</th>\n",
       "      <th>DD</th>\n",
       "      <th>DATE</th>\n",
       "      <th>CO2(ppm)</th>\n",
       "      <th>SD(ppm)</th>\n",
       "      <th>GR(ppm/yr)</th>\n",
       "      <th>Source</th>\n",
       "    </tr>\n",
       "  </thead>\n",
       "  <tbody>\n",
       "    <tr>\n",
       "      <th>0</th>\n",
       "      <td>1976</td>\n",
       "      <td>5</td>\n",
       "      <td>15</td>\n",
       "      <td>1976.36890</td>\n",
       "      <td>328.861</td>\n",
       "      <td>0.165</td>\n",
       "      <td>NaN</td>\n",
       "      <td>in situ</td>\n",
       "    </tr>\n",
       "    <tr>\n",
       "      <th>1</th>\n",
       "      <td>1976</td>\n",
       "      <td>6</td>\n",
       "      <td>15</td>\n",
       "      <td>1976.45360</td>\n",
       "      <td>328.988</td>\n",
       "      <td>0.285</td>\n",
       "      <td>NaN</td>\n",
       "      <td>in situ</td>\n",
       "    </tr>\n",
       "    <tr>\n",
       "      <th>2</th>\n",
       "      <td>1976</td>\n",
       "      <td>7</td>\n",
       "      <td>15</td>\n",
       "      <td>1976.53550</td>\n",
       "      <td>329.653</td>\n",
       "      <td>0.282</td>\n",
       "      <td>NaN</td>\n",
       "      <td>in situ</td>\n",
       "    </tr>\n",
       "    <tr>\n",
       "      <th>3</th>\n",
       "      <td>1976</td>\n",
       "      <td>8</td>\n",
       "      <td>15</td>\n",
       "      <td>1976.62020</td>\n",
       "      <td>330.550</td>\n",
       "      <td>0.201</td>\n",
       "      <td>NaN</td>\n",
       "      <td>in situ</td>\n",
       "    </tr>\n",
       "    <tr>\n",
       "      <th>4</th>\n",
       "      <td>1976</td>\n",
       "      <td>9</td>\n",
       "      <td>15</td>\n",
       "      <td>1976.70490</td>\n",
       "      <td>330.872</td>\n",
       "      <td>0.234</td>\n",
       "      <td>NaN</td>\n",
       "      <td>in situ</td>\n",
       "    </tr>\n",
       "    <tr>\n",
       "      <th>...</th>\n",
       "      <td>...</td>\n",
       "      <td>...</td>\n",
       "      <td>...</td>\n",
       "      <td>...</td>\n",
       "      <td>...</td>\n",
       "      <td>...</td>\n",
       "      <td>...</td>\n",
       "      <td>...</td>\n",
       "    </tr>\n",
       "    <tr>\n",
       "      <th>579</th>\n",
       "      <td>2024</td>\n",
       "      <td>8</td>\n",
       "      <td>15</td>\n",
       "      <td>2024.62022</td>\n",
       "      <td>420.795</td>\n",
       "      <td>0.157</td>\n",
       "      <td>NaN</td>\n",
       "      <td>in situ</td>\n",
       "    </tr>\n",
       "    <tr>\n",
       "      <th>580</th>\n",
       "      <td>2024</td>\n",
       "      <td>9</td>\n",
       "      <td>15</td>\n",
       "      <td>2024.70492</td>\n",
       "      <td>421.180</td>\n",
       "      <td>0.139</td>\n",
       "      <td>NaN</td>\n",
       "      <td>in situ</td>\n",
       "    </tr>\n",
       "    <tr>\n",
       "      <th>581</th>\n",
       "      <td>2024</td>\n",
       "      <td>10</td>\n",
       "      <td>15</td>\n",
       "      <td>2024.78689</td>\n",
       "      <td>421.397</td>\n",
       "      <td>0.097</td>\n",
       "      <td>NaN</td>\n",
       "      <td>in situ</td>\n",
       "    </tr>\n",
       "    <tr>\n",
       "      <th>582</th>\n",
       "      <td>2024</td>\n",
       "      <td>11</td>\n",
       "      <td>15</td>\n",
       "      <td>2024.87158</td>\n",
       "      <td>421.414</td>\n",
       "      <td>0.156</td>\n",
       "      <td>NaN</td>\n",
       "      <td>in situ</td>\n",
       "    </tr>\n",
       "    <tr>\n",
       "      <th>583</th>\n",
       "      <td>2024</td>\n",
       "      <td>12</td>\n",
       "      <td>15</td>\n",
       "      <td>2024.95355</td>\n",
       "      <td>421.377</td>\n",
       "      <td>0.171</td>\n",
       "      <td>NaN</td>\n",
       "      <td>in situ</td>\n",
       "    </tr>\n",
       "  </tbody>\n",
       "</table>\n",
       "<p>584 rows × 8 columns</p>\n",
       "</div>"
      ],
      "text/plain": [
       "     YYYY  MM  DD        DATE  CO2(ppm)  SD(ppm)  GR(ppm/yr)   Source\n",
       "0    1976   5  15  1976.36890   328.861    0.165         NaN  in situ\n",
       "1    1976   6  15  1976.45360   328.988    0.285         NaN  in situ\n",
       "2    1976   7  15  1976.53550   329.653    0.282         NaN  in situ\n",
       "3    1976   8  15  1976.62020   330.550    0.201         NaN  in situ\n",
       "4    1976   9  15  1976.70490   330.872    0.234         NaN  in situ\n",
       "..    ...  ..  ..         ...       ...      ...         ...      ...\n",
       "579  2024   8  15  2024.62022   420.795    0.157         NaN  in situ\n",
       "580  2024   9  15  2024.70492   421.180    0.139         NaN  in situ\n",
       "581  2024  10  15  2024.78689   421.397    0.097         NaN  in situ\n",
       "582  2024  11  15  2024.87158   421.414    0.156         NaN  in situ\n",
       "583  2024  12  15  2024.95355   421.377    0.171         NaN  in situ\n",
       "\n",
       "[584 rows x 8 columns]"
      ]
     },
     "execution_count": 3,
     "metadata": {},
     "output_type": "execute_result"
    }
   ],
   "source": [
    "df = pd.read_csv(\"../data/CapeGrim_CO2_data_download.csv\",\n",
    "                 skiprows=24, # the number of rows at the top of the file with metadata\n",
    "                 skipfooter=70, # the number of rows at the bottom of the file with metadata\n",
    "                 encoding = \"ISO-8859-1\") # there are some special characters - we need a specific encoding\n",
    "df"
   ]
  },
  {
   "cell_type": "markdown",
   "id": "7d38cd3c-7817-4252-b37b-2e0e09d8e954",
   "metadata": {},
   "source": [
    "## Understanding the Pandas Data Structure"
   ]
  },
  {
   "cell_type": "markdown",
   "id": "2929f775-0170-499d-bb1a-0dc9f10eda0a",
   "metadata": {},
   "source": [
    "### The pandas [`DataFrame`](https://pandas.pydata.org/docs/user_guide/dsintro.html#dataframe)...\n",
    "...is a **labeled**, two-dimensional columnar structure, similar to a table, spreadsheet, or the R `data.frame`.\n",
    "\n",
    "![dataframe schematic](https://github.com/pandas-dev/pandas/raw/main/doc/source/_static/schemas/01_table_dataframe.svg \"Schematic of a pandas DataFrame\")\n",
    "\n",
    "The `columns` that make up our `DataFrame` can be lists, dictionaries, NumPy arrays, pandas `Series`, or many other data types not mentioned here. Within these `columns`, you can have data values of many different data types used in Python and NumPy, including text, numbers, and dates/times. The first column of a `DataFrame`, shown in the image above in dark gray, is uniquely referred to as an `index`; this column contains information characterizing each row of our `DataFrame`. Similar to any other `column`, the `index` can label rows by text, numbers, datetime objects, and many other data types. Datetime objects are a quite popular way to label rows.\n",
    "\n",
    "For our first example using Pandas DataFrames, we start by reading in some data in comma-separated value (`.csv`) format. We retrieve this dataset from our local data directory; however, the dataset was originally contained within the CSIRO data page. This dataset contains many types of greenhouse gas data, including gas measurements at Kennaook/Cape Grim. For more information on this dataset, review the description [here](https://www.csiro.au/en/research/natural-environment/atmosphere/latest-greenhouse-gas-data)."
   ]
  },
  {
   "cell_type": "code",
   "execution_count": 4,
   "id": "57cf0ff7-5286-4aa2-a372-8ac2577a211e",
   "metadata": {},
   "outputs": [
    {
     "data": {
      "text/plain": [
       "RangeIndex(start=0, stop=584, step=1)"
      ]
     },
     "execution_count": 4,
     "metadata": {},
     "output_type": "execute_result"
    }
   ],
   "source": [
    "df.index"
   ]
  },
  {
   "cell_type": "markdown",
   "id": "1d66f8f7-27d4-4674-b92a-9907cc818f83",
   "metadata": {},
   "source": [
    "The `DataFrame` index, as described above, contains information characterizing rows; each row has a unique ID value, which is displayed in the index column.  By default, the IDs for rows in a `DataFrame` are represented as sequential integers, which start at 0.\n",
    "\n",
    "At the moment, the index column of our DataFrame is not very helpful for humans. However, Pandas has clever ways to make index columns more human-readable. The next example demonstrates how to use optional keyword arguments to convert DataFrame index IDs to a human-friendly datetime format."
   ]
  },
  {
   "cell_type": "code",
   "execution_count": 47,
   "id": "3db1bcf9-1247-4ffc-ac35-515643648dae",
   "metadata": {},
   "outputs": [
    {
     "name": "stderr",
     "output_type": "stream",
     "text": [
      "/var/folders/bw/c9j8z20x45s2y20vv6528qjc0000gq/T/ipykernel_85673/3271322259.py:1: FutureWarning: Support for nested sequences for 'parse_dates' in pd.read_csv is deprecated. Combine the desired columns with pd.to_datetime after parsing instead.\n",
      "  df = pd.read_csv(\"../data/CapeGrim_CO2_data_download.csv\",\n"
     ]
    },
    {
     "data": {
      "text/html": [
       "<div>\n",
       "<style scoped>\n",
       "    .dataframe tbody tr th:only-of-type {\n",
       "        vertical-align: middle;\n",
       "    }\n",
       "\n",
       "    .dataframe tbody tr th {\n",
       "        vertical-align: top;\n",
       "    }\n",
       "\n",
       "    .dataframe thead th {\n",
       "        text-align: right;\n",
       "    }\n",
       "</style>\n",
       "<table border=\"1\" class=\"dataframe\">\n",
       "  <thead>\n",
       "    <tr style=\"text-align: right;\">\n",
       "      <th></th>\n",
       "      <th>DATE</th>\n",
       "      <th>CO2(ppm)</th>\n",
       "      <th>SD(ppm)</th>\n",
       "      <th>GR(ppm/yr)</th>\n",
       "      <th>Source</th>\n",
       "    </tr>\n",
       "    <tr>\n",
       "      <th>date</th>\n",
       "      <th></th>\n",
       "      <th></th>\n",
       "      <th></th>\n",
       "      <th></th>\n",
       "      <th></th>\n",
       "    </tr>\n",
       "  </thead>\n",
       "  <tbody>\n",
       "    <tr>\n",
       "      <th>1976-05-15</th>\n",
       "      <td>1976.36890</td>\n",
       "      <td>328.861</td>\n",
       "      <td>0.165</td>\n",
       "      <td>NaN</td>\n",
       "      <td>in situ</td>\n",
       "    </tr>\n",
       "    <tr>\n",
       "      <th>1976-06-15</th>\n",
       "      <td>1976.45360</td>\n",
       "      <td>328.988</td>\n",
       "      <td>0.285</td>\n",
       "      <td>NaN</td>\n",
       "      <td>in situ</td>\n",
       "    </tr>\n",
       "    <tr>\n",
       "      <th>1976-07-15</th>\n",
       "      <td>1976.53550</td>\n",
       "      <td>329.653</td>\n",
       "      <td>0.282</td>\n",
       "      <td>NaN</td>\n",
       "      <td>in situ</td>\n",
       "    </tr>\n",
       "    <tr>\n",
       "      <th>1976-08-15</th>\n",
       "      <td>1976.62020</td>\n",
       "      <td>330.550</td>\n",
       "      <td>0.201</td>\n",
       "      <td>NaN</td>\n",
       "      <td>in situ</td>\n",
       "    </tr>\n",
       "    <tr>\n",
       "      <th>1976-09-15</th>\n",
       "      <td>1976.70490</td>\n",
       "      <td>330.872</td>\n",
       "      <td>0.234</td>\n",
       "      <td>NaN</td>\n",
       "      <td>in situ</td>\n",
       "    </tr>\n",
       "    <tr>\n",
       "      <th>...</th>\n",
       "      <td>...</td>\n",
       "      <td>...</td>\n",
       "      <td>...</td>\n",
       "      <td>...</td>\n",
       "      <td>...</td>\n",
       "    </tr>\n",
       "    <tr>\n",
       "      <th>2024-08-15</th>\n",
       "      <td>2024.62022</td>\n",
       "      <td>420.795</td>\n",
       "      <td>0.157</td>\n",
       "      <td>NaN</td>\n",
       "      <td>in situ</td>\n",
       "    </tr>\n",
       "    <tr>\n",
       "      <th>2024-09-15</th>\n",
       "      <td>2024.70492</td>\n",
       "      <td>421.180</td>\n",
       "      <td>0.139</td>\n",
       "      <td>NaN</td>\n",
       "      <td>in situ</td>\n",
       "    </tr>\n",
       "    <tr>\n",
       "      <th>2024-10-15</th>\n",
       "      <td>2024.78689</td>\n",
       "      <td>421.397</td>\n",
       "      <td>0.097</td>\n",
       "      <td>NaN</td>\n",
       "      <td>in situ</td>\n",
       "    </tr>\n",
       "    <tr>\n",
       "      <th>2024-11-15</th>\n",
       "      <td>2024.87158</td>\n",
       "      <td>421.414</td>\n",
       "      <td>0.156</td>\n",
       "      <td>NaN</td>\n",
       "      <td>in situ</td>\n",
       "    </tr>\n",
       "    <tr>\n",
       "      <th>2024-12-15</th>\n",
       "      <td>2024.95355</td>\n",
       "      <td>421.377</td>\n",
       "      <td>0.171</td>\n",
       "      <td>NaN</td>\n",
       "      <td>in situ</td>\n",
       "    </tr>\n",
       "  </tbody>\n",
       "</table>\n",
       "<p>584 rows × 5 columns</p>\n",
       "</div>"
      ],
      "text/plain": [
       "                  DATE  CO2(ppm)  SD(ppm)  GR(ppm/yr)   Source\n",
       "date                                                          \n",
       "1976-05-15  1976.36890   328.861    0.165         NaN  in situ\n",
       "1976-06-15  1976.45360   328.988    0.285         NaN  in situ\n",
       "1976-07-15  1976.53550   329.653    0.282         NaN  in situ\n",
       "1976-08-15  1976.62020   330.550    0.201         NaN  in situ\n",
       "1976-09-15  1976.70490   330.872    0.234         NaN  in situ\n",
       "...                ...       ...      ...         ...      ...\n",
       "2024-08-15  2024.62022   420.795    0.157         NaN  in situ\n",
       "2024-09-15  2024.70492   421.180    0.139         NaN  in situ\n",
       "2024-10-15  2024.78689   421.397    0.097         NaN  in situ\n",
       "2024-11-15  2024.87158   421.414    0.156         NaN  in situ\n",
       "2024-12-15  2024.95355   421.377    0.171         NaN  in situ\n",
       "\n",
       "[584 rows x 5 columns]"
      ]
     },
     "execution_count": 47,
     "metadata": {},
     "output_type": "execute_result"
    }
   ],
   "source": [
    "df = pd.read_csv(\"../data/CapeGrim_CO2_data_download.csv\",\n",
    "                 skiprows=24, # the number of rows at the top of the file with metadata\n",
    "                 skipfooter=70, # the number of rows at the bottom of the file with metadata\n",
    "                 encoding = \"ISO-8859-1\", # there are some special characters - we need a specific encoding\n",
    "                 parse_dates={\"date\":[\"MM\", \"DD\", \"YYYY\"]}, # parse the date columns\n",
    "                 engine=\"python\", # make sure we use the python engine\n",
    "                 index_col=0) \n",
    "df"
   ]
  },
  {
   "cell_type": "markdown",
   "id": "267ba581-30f0-4c60-bf31-d7367cbe73fa",
   "metadata": {},
   "source": [
    "Each of our data rows is now helpfully labeled by a datetime-object-like index value; this means that we can now easily identify data values not only by named columns, but also by date labels on rows. This is a sneak preview of the `DatetimeIndex` functionality of Pandas; this functionality enables a large portion of Pandas' timeseries-related usage. Don't worry; `DatetimeIndex` will be discussed in full detail later on this page. In the meantime, let's look at the columns of data read in from the `.csv` file:"
   ]
  },
  {
   "cell_type": "code",
   "execution_count": 6,
   "id": "8e5fbabe-c3d4-4f6b-98cf-4c7a766a1e3a",
   "metadata": {},
   "outputs": [
    {
     "data": {
      "text/plain": [
       "Index(['DATE', 'CO2(ppm)', 'SD(ppm)', 'GR(ppm/yr)', 'Source'], dtype='object')"
      ]
     },
     "execution_count": 6,
     "metadata": {},
     "output_type": "execute_result"
    }
   ],
   "source": [
    "df.columns"
   ]
  },
  {
   "cell_type": "markdown",
   "id": "959b12e7-1fa7-4a08-97f6-6de7613b9405",
   "metadata": {},
   "source": [
    "### The pandas [`Series`](https://pandas.pydata.org/docs/user_guide/dsintro.html#series)...\n",
    "\n",
    "...is essentially any one of the columns of our `DataFrame`. A `Series` also includes the index column from the source `DataFrame`, in order to provide a label for each value in the `Series`.\n",
    "\n",
    "![pandas Series](https://github.com/pandas-dev/pandas/raw/main/doc/source/_static/schemas/01_table_series.svg \"Schematic of a pandas Series\")\n",
    "\n",
    "The pandas `Series` is a fast and capable 1-dimensional array of nearly any data type we could want, and it can behave very similarly to a NumPy `ndarray` or a Python `dict`. You can take a look at any of the `Series` that make up your `DataFrame`, either by using its column name and the Python `dict` notation, or by using dot-shorthand with the column name:"
   ]
  },
  {
   "cell_type": "code",
   "execution_count": 7,
   "id": "736f5c1f-811f-491d-a88a-a38523f32c32",
   "metadata": {
    "scrolled": true
   },
   "outputs": [
    {
     "data": {
      "text/plain": [
       "date\n",
       "1976-05-15    328.861\n",
       "1976-06-15    328.988\n",
       "1976-07-15    329.653\n",
       "1976-08-15    330.550\n",
       "1976-09-15    330.872\n",
       "               ...   \n",
       "2024-08-15    420.795\n",
       "2024-09-15    421.180\n",
       "2024-10-15    421.397\n",
       "2024-11-15    421.414\n",
       "2024-12-15    421.377\n",
       "Name: CO2(ppm), Length: 584, dtype: float64"
      ]
     },
     "execution_count": 7,
     "metadata": {},
     "output_type": "execute_result"
    }
   ],
   "source": [
    "df[\"CO2(ppm)\"]"
   ]
  },
  {
   "cell_type": "markdown",
   "id": "eadd2213-3c61-4e77-888d-036e99ab59e9",
   "metadata": {},
   "source": [
    "### Slicing and Dicing the `DataFrame` and `Series`\n",
    "\n",
    "In this section, we will expand on topics covered in the previous sections on this page. One of the most important concepts to learn about Pandas is that it allows you to _**access anything by its associated label**_, regardless of data organization structure.\n",
    "\n",
    "#### Indexing a `Series`\n",
    "\n",
    "As a review of previous examples, we'll start our next example by pulling a `Series` out of our `DataFrame` using its column label."
   ]
  },
  {
   "cell_type": "code",
   "execution_count": 8,
   "id": "f164f4e0-4fc9-47c7-9a82-f6430d47f314",
   "metadata": {},
   "outputs": [
    {
     "data": {
      "text/plain": [
       "date\n",
       "1976-05-15    328.861\n",
       "1976-06-15    328.988\n",
       "1976-07-15    329.653\n",
       "1976-08-15    330.550\n",
       "1976-09-15    330.872\n",
       "               ...   \n",
       "2024-08-15    420.795\n",
       "2024-09-15    421.180\n",
       "2024-10-15    421.397\n",
       "2024-11-15    421.414\n",
       "2024-12-15    421.377\n",
       "Name: CO2(ppm), Length: 584, dtype: float64"
      ]
     },
     "execution_count": 8,
     "metadata": {},
     "output_type": "execute_result"
    }
   ],
   "source": [
    "co2_series = df[\"CO2(ppm)\"]\n",
    "\n",
    "co2_series"
   ]
  },
  {
   "cell_type": "markdown",
   "id": "42671ce8-f9f9-4908-a0e8-79da3e49a9ba",
   "metadata": {},
   "source": [
    "You can use syntax similar to that of NumPy `ndarrays` to index, select, and subset with Pandas `Series`, as shown in this example:"
   ]
  },
  {
   "cell_type": "code",
   "execution_count": 9,
   "id": "3b9d7079-9a42-44a0-9fb8-767056325b03",
   "metadata": {},
   "outputs": [
    {
     "data": {
      "text/plain": [
       "date\n",
       "1982-01-15    337.306\n",
       "1982-02-15    337.127\n",
       "1982-03-15    337.274\n",
       "1982-04-15    337.698\n",
       "1982-05-15    338.032\n",
       "1982-06-15    338.186\n",
       "1982-07-15    338.551\n",
       "1982-08-15    338.898\n",
       "1982-09-15    338.822\n",
       "1982-10-15    338.634\n",
       "1982-11-15    338.557\n",
       "Name: CO2(ppm), dtype: float64"
      ]
     },
     "execution_count": 9,
     "metadata": {},
     "output_type": "execute_result"
    }
   ],
   "source": [
    "co2_series[\"1982-01-01\":\"1982-12-01\"]"
   ]
  },
  {
   "cell_type": "markdown",
   "id": "158cb905-8627-47aa-a24c-a0bff1511ec5",
   "metadata": {},
   "source": [
    "This is an example of label-based slicing. With label-based slicing, Pandas will automatically find a range of values based on the labels you specify."
   ]
  },
  {
   "cell_type": "markdown",
   "id": "cd742fa1-942c-482a-a5cb-904de9378144",
   "metadata": {},
   "source": [
    "<div class=\"admonition alert alert-info\">\n",
    "    <p class=\"admonition-title\" style=\"font-weight:bold\">Info</p>\n",
    "    As opposed to index-based slices, label-based slices are <b>inclusive</b> of the final value.\n",
    "</div>"
   ]
  },
  {
   "cell_type": "markdown",
   "id": "03ddd090-cb28-4b48-95b1-c0cf7ac6ff64",
   "metadata": {},
   "source": [
    "If you already have some knowledge of xarray (used with ACT), you will quite likely know how to create slice objects by hand. This can also be used in pandas, as shown below. If you are completely unfamiliar with xarray, it will be covered on a later Pythia tutorial page."
   ]
  },
  {
   "cell_type": "code",
   "execution_count": 10,
   "id": "a3878a0e-c8ff-4cee-a35d-b78c49930376",
   "metadata": {},
   "outputs": [
    {
     "data": {
      "text/plain": [
       "date\n",
       "1982-01-15    337.306\n",
       "1982-02-15    337.127\n",
       "1982-03-15    337.274\n",
       "1982-04-15    337.698\n",
       "1982-05-15    338.032\n",
       "1982-06-15    338.186\n",
       "1982-07-15    338.551\n",
       "1982-08-15    338.898\n",
       "1982-09-15    338.822\n",
       "1982-10-15    338.634\n",
       "1982-11-15    338.557\n",
       "Name: CO2(ppm), dtype: float64"
      ]
     },
     "execution_count": 10,
     "metadata": {},
     "output_type": "execute_result"
    }
   ],
   "source": [
    "co2_series[slice(\"1982-01-01\", \"1982-12-01\")]"
   ]
  },
  {
   "cell_type": "markdown",
   "id": "3083bf69-6866-4e9d-b348-c8a3cc353e8a",
   "metadata": {},
   "source": [
    "#### Using `.iloc` and `.loc` to index\n",
    "\n",
    "In this section, we introduce ways to access data that are preferred by Pandas over the methods listed above. When accessing by label, it is preferred to use the `.loc` method, and when accessing by index, the `.iloc` method is preferred. These methods behave similarly to the notation introduced above, but provide more speed, security, and rigor in your value selection. Using these methods can also help you avoid [chained assignment warnings](https://pandas.pydata.org/docs/user_guide/indexing.html#returning-a-view-versus-a-copy) generated by pandas."
   ]
  },
  {
   "cell_type": "code",
   "execution_count": 11,
   "id": "4714f036-0724-4c26-8b5c-2863b222aa69",
   "metadata": {},
   "outputs": [
    {
     "data": {
      "text/plain": [
       "np.float64(330.55)"
      ]
     },
     "execution_count": 11,
     "metadata": {},
     "output_type": "execute_result"
    }
   ],
   "source": [
    "co2_series.iloc[3]"
   ]
  },
  {
   "cell_type": "code",
   "execution_count": 12,
   "id": "c3ab144c-eec4-4996-92a6-d646fac5b710",
   "metadata": {},
   "outputs": [
    {
     "data": {
      "text/plain": [
       "date\n",
       "1976-05-15    328.861\n",
       "1976-06-15    328.988\n",
       "1976-07-15    329.653\n",
       "1976-08-15    330.550\n",
       "1976-09-15    330.872\n",
       "1976-10-15    330.899\n",
       "1976-11-15    330.883\n",
       "1976-12-15    330.677\n",
       "1977-01-15    330.529\n",
       "1977-02-15    330.543\n",
       "1977-03-15    330.724\n",
       "1977-04-15    330.805\n",
       "Name: CO2(ppm), dtype: float64"
      ]
     },
     "execution_count": 12,
     "metadata": {},
     "output_type": "execute_result"
    }
   ],
   "source": [
    "co2_series.iloc[0:12]"
   ]
  },
  {
   "cell_type": "code",
   "execution_count": 13,
   "id": "c1a44e88-fd88-4a54-8f62-6cf0ceb83c09",
   "metadata": {},
   "outputs": [
    {
     "data": {
      "text/plain": [
       "np.float64(328.861)"
      ]
     },
     "execution_count": 13,
     "metadata": {},
     "output_type": "execute_result"
    }
   ],
   "source": [
    "co2_series.loc[\"1976-05-15\"]"
   ]
  },
  {
   "cell_type": "code",
   "execution_count": 14,
   "id": "3d343152-92d1-406b-a739-74c6f24ef52d",
   "metadata": {},
   "outputs": [
    {
     "data": {
      "text/plain": [
       "date\n",
       "1977-01-15    330.529\n",
       "1977-02-15    330.543\n",
       "1977-03-15    330.724\n",
       "1977-04-15    330.805\n",
       "1977-05-15    331.007\n",
       "1977-06-15    331.500\n",
       "1977-07-15    331.800\n",
       "1977-08-15    332.327\n",
       "1977-09-15    332.940\n",
       "1977-10-15    333.034\n",
       "1977-11-15    332.778\n",
       "1977-12-15    332.377\n",
       "Name: CO2(ppm), dtype: float64"
      ]
     },
     "execution_count": 14,
     "metadata": {},
     "output_type": "execute_result"
    }
   ],
   "source": [
    "co2_series.loc[\"1977-01-01\":\"1977-12-31\"]"
   ]
  },
  {
   "cell_type": "markdown",
   "id": "391bcb25-2d6c-4290-b64a-61ede4eedd47",
   "metadata": {},
   "source": [
    "#### Extending to the `DataFrame`\n",
    "\n",
    "These subsetting capabilities can also be used in a full `DataFrame`; however, if you use the same syntax, there are issues, as shown below:"
   ]
  },
  {
   "cell_type": "code",
   "execution_count": 15,
   "id": "71c5081a-7a5f-4023-bebd-2b069de7137d",
   "metadata": {},
   "outputs": [
    {
     "ename": "KeyError",
     "evalue": "'1977-01-01'",
     "output_type": "error",
     "traceback": [
      "\u001b[0;31m---------------------------------------------------------------------------\u001b[0m",
      "\u001b[0;31mKeyError\u001b[0m                                  Traceback (most recent call last)",
      "File \u001b[0;32m~/mambaforge/envs/cape-k-student-workshop-2025-dev/lib/python3.12/site-packages/pandas/core/indexes/base.py:3805\u001b[0m, in \u001b[0;36mIndex.get_loc\u001b[0;34m(self, key)\u001b[0m\n\u001b[1;32m   3804\u001b[0m \u001b[38;5;28;01mtry\u001b[39;00m:\n\u001b[0;32m-> 3805\u001b[0m     \u001b[38;5;28;01mreturn\u001b[39;00m \u001b[38;5;28;43mself\u001b[39;49m\u001b[38;5;241;43m.\u001b[39;49m\u001b[43m_engine\u001b[49m\u001b[38;5;241;43m.\u001b[39;49m\u001b[43mget_loc\u001b[49m\u001b[43m(\u001b[49m\u001b[43mcasted_key\u001b[49m\u001b[43m)\u001b[49m\n\u001b[1;32m   3806\u001b[0m \u001b[38;5;28;01mexcept\u001b[39;00m \u001b[38;5;167;01mKeyError\u001b[39;00m \u001b[38;5;28;01mas\u001b[39;00m err:\n",
      "File \u001b[0;32mindex.pyx:167\u001b[0m, in \u001b[0;36mpandas._libs.index.IndexEngine.get_loc\u001b[0;34m()\u001b[0m\n",
      "File \u001b[0;32mindex.pyx:196\u001b[0m, in \u001b[0;36mpandas._libs.index.IndexEngine.get_loc\u001b[0;34m()\u001b[0m\n",
      "File \u001b[0;32mpandas/_libs/hashtable_class_helper.pxi:7081\u001b[0m, in \u001b[0;36mpandas._libs.hashtable.PyObjectHashTable.get_item\u001b[0;34m()\u001b[0m\n",
      "File \u001b[0;32mpandas/_libs/hashtable_class_helper.pxi:7089\u001b[0m, in \u001b[0;36mpandas._libs.hashtable.PyObjectHashTable.get_item\u001b[0;34m()\u001b[0m\n",
      "\u001b[0;31mKeyError\u001b[0m: '1977-01-01'",
      "\nThe above exception was the direct cause of the following exception:\n",
      "\u001b[0;31mKeyError\u001b[0m                                  Traceback (most recent call last)",
      "Cell \u001b[0;32mIn[15], line 1\u001b[0m\n\u001b[0;32m----> 1\u001b[0m \u001b[43mdf\u001b[49m\u001b[43m[\u001b[49m\u001b[38;5;124;43m\"\u001b[39;49m\u001b[38;5;124;43m1977-01-01\u001b[39;49m\u001b[38;5;124;43m\"\u001b[39;49m\u001b[43m]\u001b[49m\n",
      "File \u001b[0;32m~/mambaforge/envs/cape-k-student-workshop-2025-dev/lib/python3.12/site-packages/pandas/core/frame.py:4102\u001b[0m, in \u001b[0;36mDataFrame.__getitem__\u001b[0;34m(self, key)\u001b[0m\n\u001b[1;32m   4100\u001b[0m \u001b[38;5;28;01mif\u001b[39;00m \u001b[38;5;28mself\u001b[39m\u001b[38;5;241m.\u001b[39mcolumns\u001b[38;5;241m.\u001b[39mnlevels \u001b[38;5;241m>\u001b[39m \u001b[38;5;241m1\u001b[39m:\n\u001b[1;32m   4101\u001b[0m     \u001b[38;5;28;01mreturn\u001b[39;00m \u001b[38;5;28mself\u001b[39m\u001b[38;5;241m.\u001b[39m_getitem_multilevel(key)\n\u001b[0;32m-> 4102\u001b[0m indexer \u001b[38;5;241m=\u001b[39m \u001b[38;5;28;43mself\u001b[39;49m\u001b[38;5;241;43m.\u001b[39;49m\u001b[43mcolumns\u001b[49m\u001b[38;5;241;43m.\u001b[39;49m\u001b[43mget_loc\u001b[49m\u001b[43m(\u001b[49m\u001b[43mkey\u001b[49m\u001b[43m)\u001b[49m\n\u001b[1;32m   4103\u001b[0m \u001b[38;5;28;01mif\u001b[39;00m is_integer(indexer):\n\u001b[1;32m   4104\u001b[0m     indexer \u001b[38;5;241m=\u001b[39m [indexer]\n",
      "File \u001b[0;32m~/mambaforge/envs/cape-k-student-workshop-2025-dev/lib/python3.12/site-packages/pandas/core/indexes/base.py:3812\u001b[0m, in \u001b[0;36mIndex.get_loc\u001b[0;34m(self, key)\u001b[0m\n\u001b[1;32m   3807\u001b[0m     \u001b[38;5;28;01mif\u001b[39;00m \u001b[38;5;28misinstance\u001b[39m(casted_key, \u001b[38;5;28mslice\u001b[39m) \u001b[38;5;129;01mor\u001b[39;00m (\n\u001b[1;32m   3808\u001b[0m         \u001b[38;5;28misinstance\u001b[39m(casted_key, abc\u001b[38;5;241m.\u001b[39mIterable)\n\u001b[1;32m   3809\u001b[0m         \u001b[38;5;129;01mand\u001b[39;00m \u001b[38;5;28many\u001b[39m(\u001b[38;5;28misinstance\u001b[39m(x, \u001b[38;5;28mslice\u001b[39m) \u001b[38;5;28;01mfor\u001b[39;00m x \u001b[38;5;129;01min\u001b[39;00m casted_key)\n\u001b[1;32m   3810\u001b[0m     ):\n\u001b[1;32m   3811\u001b[0m         \u001b[38;5;28;01mraise\u001b[39;00m InvalidIndexError(key)\n\u001b[0;32m-> 3812\u001b[0m     \u001b[38;5;28;01mraise\u001b[39;00m \u001b[38;5;167;01mKeyError\u001b[39;00m(key) \u001b[38;5;28;01mfrom\u001b[39;00m \u001b[38;5;21;01merr\u001b[39;00m\n\u001b[1;32m   3813\u001b[0m \u001b[38;5;28;01mexcept\u001b[39;00m \u001b[38;5;167;01mTypeError\u001b[39;00m:\n\u001b[1;32m   3814\u001b[0m     \u001b[38;5;66;03m# If we have a listlike key, _check_indexing_error will raise\u001b[39;00m\n\u001b[1;32m   3815\u001b[0m     \u001b[38;5;66;03m#  InvalidIndexError. Otherwise we fall through and re-raise\u001b[39;00m\n\u001b[1;32m   3816\u001b[0m     \u001b[38;5;66;03m#  the TypeError.\u001b[39;00m\n\u001b[1;32m   3817\u001b[0m     \u001b[38;5;28mself\u001b[39m\u001b[38;5;241m.\u001b[39m_check_indexing_error(key)\n",
      "\u001b[0;31mKeyError\u001b[0m: '1977-01-01'"
     ]
    }
   ],
   "source": [
    "df[\"1977-01-01\"]"
   ]
  },
  {
   "cell_type": "markdown",
   "id": "cadcc3d2-33ac-4eb9-8d8a-8c8eda28296c",
   "metadata": {},
   "source": [
    "<div class=\"admonition alert alert-danger\">\n",
    "    <p class=\"admonition-title\" style=\"font-weight:bold\">Danger</p>\n",
    "    Attempting to use <code>Series</code> subsetting with a <code>DataFrame</code> can crash your program. A proper way to subset a <code>DataFrame</code> is shown below.\n",
    "</div>"
   ]
  },
  {
   "cell_type": "markdown",
   "id": "4150a602-b570-4bb1-a57d-86fa8bd0e57c",
   "metadata": {},
   "source": [
    "When indexing a `DataFrame`, pandas will not assume as readily the intention of your code. In this case, using a row label by itself will not work; **with `DataFrames`, labels are used for identifying columns**."
   ]
  },
  {
   "cell_type": "code",
   "execution_count": null,
   "id": "5541bd2d-2a60-43b7-b29b-0fbd97f00105",
   "metadata": {},
   "outputs": [],
   "source": [
    "df[\"CO2(ppm)\"]"
   ]
  },
  {
   "cell_type": "markdown",
   "id": "74876a5e-45ba-498d-82b2-427fec27d878",
   "metadata": {},
   "source": [
    "As shown below, you also cannot subset columns in a `DataFrame` using integer indices:"
   ]
  },
  {
   "cell_type": "code",
   "execution_count": 16,
   "id": "f882ea6a-80ab-4202-a1ac-671eb0d12550",
   "metadata": {},
   "outputs": [
    {
     "ename": "KeyError",
     "evalue": "0",
     "output_type": "error",
     "traceback": [
      "\u001b[0;31m---------------------------------------------------------------------------\u001b[0m",
      "\u001b[0;31mKeyError\u001b[0m                                  Traceback (most recent call last)",
      "File \u001b[0;32m~/mambaforge/envs/cape-k-student-workshop-2025-dev/lib/python3.12/site-packages/pandas/core/indexes/base.py:3805\u001b[0m, in \u001b[0;36mIndex.get_loc\u001b[0;34m(self, key)\u001b[0m\n\u001b[1;32m   3804\u001b[0m \u001b[38;5;28;01mtry\u001b[39;00m:\n\u001b[0;32m-> 3805\u001b[0m     \u001b[38;5;28;01mreturn\u001b[39;00m \u001b[38;5;28;43mself\u001b[39;49m\u001b[38;5;241;43m.\u001b[39;49m\u001b[43m_engine\u001b[49m\u001b[38;5;241;43m.\u001b[39;49m\u001b[43mget_loc\u001b[49m\u001b[43m(\u001b[49m\u001b[43mcasted_key\u001b[49m\u001b[43m)\u001b[49m\n\u001b[1;32m   3806\u001b[0m \u001b[38;5;28;01mexcept\u001b[39;00m \u001b[38;5;167;01mKeyError\u001b[39;00m \u001b[38;5;28;01mas\u001b[39;00m err:\n",
      "File \u001b[0;32mindex.pyx:167\u001b[0m, in \u001b[0;36mpandas._libs.index.IndexEngine.get_loc\u001b[0;34m()\u001b[0m\n",
      "File \u001b[0;32mindex.pyx:196\u001b[0m, in \u001b[0;36mpandas._libs.index.IndexEngine.get_loc\u001b[0;34m()\u001b[0m\n",
      "File \u001b[0;32mpandas/_libs/hashtable_class_helper.pxi:7081\u001b[0m, in \u001b[0;36mpandas._libs.hashtable.PyObjectHashTable.get_item\u001b[0;34m()\u001b[0m\n",
      "File \u001b[0;32mpandas/_libs/hashtable_class_helper.pxi:7089\u001b[0m, in \u001b[0;36mpandas._libs.hashtable.PyObjectHashTable.get_item\u001b[0;34m()\u001b[0m\n",
      "\u001b[0;31mKeyError\u001b[0m: 0",
      "\nThe above exception was the direct cause of the following exception:\n",
      "\u001b[0;31mKeyError\u001b[0m                                  Traceback (most recent call last)",
      "Cell \u001b[0;32mIn[16], line 1\u001b[0m\n\u001b[0;32m----> 1\u001b[0m \u001b[43mdf\u001b[49m\u001b[43m[\u001b[49m\u001b[38;5;241;43m0\u001b[39;49m\u001b[43m]\u001b[49m\n",
      "File \u001b[0;32m~/mambaforge/envs/cape-k-student-workshop-2025-dev/lib/python3.12/site-packages/pandas/core/frame.py:4102\u001b[0m, in \u001b[0;36mDataFrame.__getitem__\u001b[0;34m(self, key)\u001b[0m\n\u001b[1;32m   4100\u001b[0m \u001b[38;5;28;01mif\u001b[39;00m \u001b[38;5;28mself\u001b[39m\u001b[38;5;241m.\u001b[39mcolumns\u001b[38;5;241m.\u001b[39mnlevels \u001b[38;5;241m>\u001b[39m \u001b[38;5;241m1\u001b[39m:\n\u001b[1;32m   4101\u001b[0m     \u001b[38;5;28;01mreturn\u001b[39;00m \u001b[38;5;28mself\u001b[39m\u001b[38;5;241m.\u001b[39m_getitem_multilevel(key)\n\u001b[0;32m-> 4102\u001b[0m indexer \u001b[38;5;241m=\u001b[39m \u001b[38;5;28;43mself\u001b[39;49m\u001b[38;5;241;43m.\u001b[39;49m\u001b[43mcolumns\u001b[49m\u001b[38;5;241;43m.\u001b[39;49m\u001b[43mget_loc\u001b[49m\u001b[43m(\u001b[49m\u001b[43mkey\u001b[49m\u001b[43m)\u001b[49m\n\u001b[1;32m   4103\u001b[0m \u001b[38;5;28;01mif\u001b[39;00m is_integer(indexer):\n\u001b[1;32m   4104\u001b[0m     indexer \u001b[38;5;241m=\u001b[39m [indexer]\n",
      "File \u001b[0;32m~/mambaforge/envs/cape-k-student-workshop-2025-dev/lib/python3.12/site-packages/pandas/core/indexes/base.py:3812\u001b[0m, in \u001b[0;36mIndex.get_loc\u001b[0;34m(self, key)\u001b[0m\n\u001b[1;32m   3807\u001b[0m     \u001b[38;5;28;01mif\u001b[39;00m \u001b[38;5;28misinstance\u001b[39m(casted_key, \u001b[38;5;28mslice\u001b[39m) \u001b[38;5;129;01mor\u001b[39;00m (\n\u001b[1;32m   3808\u001b[0m         \u001b[38;5;28misinstance\u001b[39m(casted_key, abc\u001b[38;5;241m.\u001b[39mIterable)\n\u001b[1;32m   3809\u001b[0m         \u001b[38;5;129;01mand\u001b[39;00m \u001b[38;5;28many\u001b[39m(\u001b[38;5;28misinstance\u001b[39m(x, \u001b[38;5;28mslice\u001b[39m) \u001b[38;5;28;01mfor\u001b[39;00m x \u001b[38;5;129;01min\u001b[39;00m casted_key)\n\u001b[1;32m   3810\u001b[0m     ):\n\u001b[1;32m   3811\u001b[0m         \u001b[38;5;28;01mraise\u001b[39;00m InvalidIndexError(key)\n\u001b[0;32m-> 3812\u001b[0m     \u001b[38;5;28;01mraise\u001b[39;00m \u001b[38;5;167;01mKeyError\u001b[39;00m(key) \u001b[38;5;28;01mfrom\u001b[39;00m \u001b[38;5;21;01merr\u001b[39;00m\n\u001b[1;32m   3813\u001b[0m \u001b[38;5;28;01mexcept\u001b[39;00m \u001b[38;5;167;01mTypeError\u001b[39;00m:\n\u001b[1;32m   3814\u001b[0m     \u001b[38;5;66;03m# If we have a listlike key, _check_indexing_error will raise\u001b[39;00m\n\u001b[1;32m   3815\u001b[0m     \u001b[38;5;66;03m#  InvalidIndexError. Otherwise we fall through and re-raise\u001b[39;00m\n\u001b[1;32m   3816\u001b[0m     \u001b[38;5;66;03m#  the TypeError.\u001b[39;00m\n\u001b[1;32m   3817\u001b[0m     \u001b[38;5;28mself\u001b[39m\u001b[38;5;241m.\u001b[39m_check_indexing_error(key)\n",
      "\u001b[0;31mKeyError\u001b[0m: 0"
     ]
    }
   ],
   "source": [
    "df[0]"
   ]
  },
  {
   "cell_type": "markdown",
   "id": "ac9af1a1-135a-4e4a-9a12-d1e2f3216b73",
   "metadata": {},
   "source": [
    "From earlier examples, we know that we can use an index or label with a DataFrame to pull out a column as a Series, and we know that we can use an index or label with a Series to pull out a single value. Therefore, by chaining brackets, we can pull any individual data value out of the DataFrame."
   ]
  },
  {
   "cell_type": "code",
   "execution_count": 17,
   "id": "ba0be7c5-24cb-4d55-996f-fb0c7a41313b",
   "metadata": {},
   "outputs": [
    {
     "data": {
      "text/plain": [
       "np.float64(337.698)"
      ]
     },
     "execution_count": 17,
     "metadata": {},
     "output_type": "execute_result"
    }
   ],
   "source": [
    "df[\"CO2(ppm)\"][\"1982-04-15\"]"
   ]
  },
  {
   "cell_type": "code",
   "execution_count": 18,
   "id": "f2a3afcb-4e51-4408-bf8e-c627a9f289c7",
   "metadata": {},
   "outputs": [
    {
     "name": "stderr",
     "output_type": "stream",
     "text": [
      "/var/folders/bw/c9j8z20x45s2y20vv6528qjc0000gq/T/ipykernel_85673/1011012163.py:1: FutureWarning: Series.__getitem__ treating keys as positions is deprecated. In a future version, integer keys will always be treated as labels (consistent with DataFrame behavior). To access a value by position, use `ser.iloc[pos]`\n",
      "  df[\"CO2(ppm)\"][71]\n"
     ]
    },
    {
     "data": {
      "text/plain": [
       "np.float64(337.698)"
      ]
     },
     "execution_count": 18,
     "metadata": {},
     "output_type": "execute_result"
    }
   ],
   "source": [
    "df[\"CO2(ppm)\"][71]"
   ]
  },
  {
   "cell_type": "markdown",
   "id": "cc9f50ba-d672-481a-8e4d-d4ec01f2090f",
   "metadata": {},
   "source": [
    "However, subsetting data using this chained-bracket technique is not preferred by Pandas. As described above, Pandas prefers us to use the .loc and .iloc methods for subsetting. In addition, these methods provide a clearer, more efficient way to extract specific data from a DataFrame, as illustrated below:"
   ]
  },
  {
   "cell_type": "code",
   "execution_count": 19,
   "id": "fe9dd517-f1cb-4939-93f4-fce09a4761ed",
   "metadata": {},
   "outputs": [
    {
     "data": {
      "text/plain": [
       "np.float64(337.698)"
      ]
     },
     "execution_count": 19,
     "metadata": {},
     "output_type": "execute_result"
    }
   ],
   "source": [
    "df.loc[\"1982-04-15\", \"CO2(ppm)\"]"
   ]
  },
  {
   "cell_type": "markdown",
   "id": "9414d625-8b1e-40e6-b9c0-915c9bbbafef",
   "metadata": {},
   "source": [
    "<div class=\"admonition alert alert-info\">\n",
    "    <p class=\"admonition-title\" style=\"font-weight:bold\">Info</p>\n",
    "    When using this syntax to pull individual data values from a DataFrame, make sure to list the row first, and then the column.\n",
    "</div>\n",
    "\n",
    "The `.loc` and `.iloc` methods also allow us to pull entire rows out of a `DataFrame`, as shown in these examples:"
   ]
  },
  {
   "cell_type": "code",
   "execution_count": 20,
   "id": "22ac8003-e2ae-404b-ad0a-abf4e6283405",
   "metadata": {},
   "outputs": [
    {
     "data": {
      "text/plain": [
       "DATE          1982.2849\n",
       "CO2(ppm)        337.698\n",
       "SD(ppm)           0.241\n",
       "GR(ppm/yr)     0.562012\n",
       "Source          in situ\n",
       "Name: 1982-04-15 00:00:00, dtype: object"
      ]
     },
     "execution_count": 20,
     "metadata": {},
     "output_type": "execute_result"
    }
   ],
   "source": [
    "df.loc[\"1982-04-15\"]"
   ]
  },
  {
   "cell_type": "code",
   "execution_count": 21,
   "id": "19bc9afd-4e63-4b55-b37a-fd2a42e02f3e",
   "metadata": {},
   "outputs": [
    {
     "data": {
      "text/html": [
       "<div>\n",
       "<style scoped>\n",
       "    .dataframe tbody tr th:only-of-type {\n",
       "        vertical-align: middle;\n",
       "    }\n",
       "\n",
       "    .dataframe tbody tr th {\n",
       "        vertical-align: top;\n",
       "    }\n",
       "\n",
       "    .dataframe thead th {\n",
       "        text-align: right;\n",
       "    }\n",
       "</style>\n",
       "<table border=\"1\" class=\"dataframe\">\n",
       "  <thead>\n",
       "    <tr style=\"text-align: right;\">\n",
       "      <th></th>\n",
       "      <th>DATE</th>\n",
       "      <th>CO2(ppm)</th>\n",
       "      <th>SD(ppm)</th>\n",
       "      <th>GR(ppm/yr)</th>\n",
       "      <th>Source</th>\n",
       "    </tr>\n",
       "    <tr>\n",
       "      <th>date</th>\n",
       "      <th></th>\n",
       "      <th></th>\n",
       "      <th></th>\n",
       "      <th></th>\n",
       "      <th></th>\n",
       "    </tr>\n",
       "  </thead>\n",
       "  <tbody>\n",
       "    <tr>\n",
       "      <th>1982-01-15</th>\n",
       "      <td>1982.0384</td>\n",
       "      <td>337.306</td>\n",
       "      <td>0.193</td>\n",
       "      <td>0.718994</td>\n",
       "      <td>in situ</td>\n",
       "    </tr>\n",
       "    <tr>\n",
       "      <th>1982-02-15</th>\n",
       "      <td>1982.1233</td>\n",
       "      <td>337.127</td>\n",
       "      <td>0.179</td>\n",
       "      <td>0.805023</td>\n",
       "      <td>in situ</td>\n",
       "    </tr>\n",
       "    <tr>\n",
       "      <th>1982-03-15</th>\n",
       "      <td>1982.2000</td>\n",
       "      <td>337.274</td>\n",
       "      <td>0.290</td>\n",
       "      <td>0.656982</td>\n",
       "      <td>in situ</td>\n",
       "    </tr>\n",
       "    <tr>\n",
       "      <th>1982-04-15</th>\n",
       "      <td>1982.2849</td>\n",
       "      <td>337.698</td>\n",
       "      <td>0.241</td>\n",
       "      <td>0.562012</td>\n",
       "      <td>in situ</td>\n",
       "    </tr>\n",
       "    <tr>\n",
       "      <th>1982-05-15</th>\n",
       "      <td>1982.3671</td>\n",
       "      <td>338.032</td>\n",
       "      <td>0.187</td>\n",
       "      <td>0.557007</td>\n",
       "      <td>in situ</td>\n",
       "    </tr>\n",
       "    <tr>\n",
       "      <th>1982-06-15</th>\n",
       "      <td>1982.4521</td>\n",
       "      <td>338.186</td>\n",
       "      <td>0.153</td>\n",
       "      <td>0.559998</td>\n",
       "      <td>in situ</td>\n",
       "    </tr>\n",
       "    <tr>\n",
       "      <th>1982-07-15</th>\n",
       "      <td>1982.5342</td>\n",
       "      <td>338.551</td>\n",
       "      <td>0.186</td>\n",
       "      <td>1.001010</td>\n",
       "      <td>in situ</td>\n",
       "    </tr>\n",
       "    <tr>\n",
       "      <th>1982-08-15</th>\n",
       "      <td>1982.6192</td>\n",
       "      <td>338.898</td>\n",
       "      <td>0.153</td>\n",
       "      <td>1.299990</td>\n",
       "      <td>in situ</td>\n",
       "    </tr>\n",
       "    <tr>\n",
       "      <th>1982-09-15</th>\n",
       "      <td>1982.7041</td>\n",
       "      <td>338.822</td>\n",
       "      <td>0.213</td>\n",
       "      <td>1.245030</td>\n",
       "      <td>in situ</td>\n",
       "    </tr>\n",
       "    <tr>\n",
       "      <th>1982-10-15</th>\n",
       "      <td>1982.7863</td>\n",
       "      <td>338.634</td>\n",
       "      <td>0.195</td>\n",
       "      <td>1.416990</td>\n",
       "      <td>in situ</td>\n",
       "    </tr>\n",
       "    <tr>\n",
       "      <th>1982-11-15</th>\n",
       "      <td>1982.8712</td>\n",
       "      <td>338.557</td>\n",
       "      <td>0.163</td>\n",
       "      <td>1.500000</td>\n",
       "      <td>in situ</td>\n",
       "    </tr>\n",
       "  </tbody>\n",
       "</table>\n",
       "</div>"
      ],
      "text/plain": [
       "                 DATE  CO2(ppm)  SD(ppm)  GR(ppm/yr)   Source\n",
       "date                                                         \n",
       "1982-01-15  1982.0384   337.306    0.193    0.718994  in situ\n",
       "1982-02-15  1982.1233   337.127    0.179    0.805023  in situ\n",
       "1982-03-15  1982.2000   337.274    0.290    0.656982  in situ\n",
       "1982-04-15  1982.2849   337.698    0.241    0.562012  in situ\n",
       "1982-05-15  1982.3671   338.032    0.187    0.557007  in situ\n",
       "1982-06-15  1982.4521   338.186    0.153    0.559998  in situ\n",
       "1982-07-15  1982.5342   338.551    0.186    1.001010  in situ\n",
       "1982-08-15  1982.6192   338.898    0.153    1.299990  in situ\n",
       "1982-09-15  1982.7041   338.822    0.213    1.245030  in situ\n",
       "1982-10-15  1982.7863   338.634    0.195    1.416990  in situ\n",
       "1982-11-15  1982.8712   338.557    0.163    1.500000  in situ"
      ]
     },
     "execution_count": 21,
     "metadata": {},
     "output_type": "execute_result"
    }
   ],
   "source": [
    "df.loc[\"1982-01-01\":\"1982-12-01\"]"
   ]
  },
  {
   "cell_type": "code",
   "execution_count": 22,
   "id": "9915482c-3f37-4339-9b37-654afd55da4d",
   "metadata": {},
   "outputs": [
    {
     "data": {
      "text/plain": [
       "DATE          1976.6202\n",
       "CO2(ppm)         330.55\n",
       "SD(ppm)           0.201\n",
       "GR(ppm/yr)          NaN\n",
       "Source          in situ\n",
       "Name: 1976-08-15 00:00:00, dtype: object"
      ]
     },
     "execution_count": 22,
     "metadata": {},
     "output_type": "execute_result"
    }
   ],
   "source": [
    "df.iloc[3]"
   ]
  },
  {
   "cell_type": "code",
   "execution_count": 23,
   "id": "f605e810-965c-4b1a-8663-cfd2959715f0",
   "metadata": {},
   "outputs": [
    {
     "data": {
      "text/html": [
       "<div>\n",
       "<style scoped>\n",
       "    .dataframe tbody tr th:only-of-type {\n",
       "        vertical-align: middle;\n",
       "    }\n",
       "\n",
       "    .dataframe tbody tr th {\n",
       "        vertical-align: top;\n",
       "    }\n",
       "\n",
       "    .dataframe thead th {\n",
       "        text-align: right;\n",
       "    }\n",
       "</style>\n",
       "<table border=\"1\" class=\"dataframe\">\n",
       "  <thead>\n",
       "    <tr style=\"text-align: right;\">\n",
       "      <th></th>\n",
       "      <th>DATE</th>\n",
       "      <th>CO2(ppm)</th>\n",
       "      <th>SD(ppm)</th>\n",
       "      <th>GR(ppm/yr)</th>\n",
       "      <th>Source</th>\n",
       "    </tr>\n",
       "    <tr>\n",
       "      <th>date</th>\n",
       "      <th></th>\n",
       "      <th></th>\n",
       "      <th></th>\n",
       "      <th></th>\n",
       "      <th></th>\n",
       "    </tr>\n",
       "  </thead>\n",
       "  <tbody>\n",
       "    <tr>\n",
       "      <th>1976-05-15</th>\n",
       "      <td>1976.3689</td>\n",
       "      <td>328.861</td>\n",
       "      <td>0.165</td>\n",
       "      <td>NaN</td>\n",
       "      <td>in situ</td>\n",
       "    </tr>\n",
       "    <tr>\n",
       "      <th>1976-06-15</th>\n",
       "      <td>1976.4536</td>\n",
       "      <td>328.988</td>\n",
       "      <td>0.285</td>\n",
       "      <td>NaN</td>\n",
       "      <td>in situ</td>\n",
       "    </tr>\n",
       "    <tr>\n",
       "      <th>1976-07-15</th>\n",
       "      <td>1976.5355</td>\n",
       "      <td>329.653</td>\n",
       "      <td>0.282</td>\n",
       "      <td>NaN</td>\n",
       "      <td>in situ</td>\n",
       "    </tr>\n",
       "    <tr>\n",
       "      <th>1976-08-15</th>\n",
       "      <td>1976.6202</td>\n",
       "      <td>330.550</td>\n",
       "      <td>0.201</td>\n",
       "      <td>NaN</td>\n",
       "      <td>in situ</td>\n",
       "    </tr>\n",
       "    <tr>\n",
       "      <th>1976-09-15</th>\n",
       "      <td>1976.7049</td>\n",
       "      <td>330.872</td>\n",
       "      <td>0.234</td>\n",
       "      <td>NaN</td>\n",
       "      <td>in situ</td>\n",
       "    </tr>\n",
       "    <tr>\n",
       "      <th>1976-10-15</th>\n",
       "      <td>1976.7869</td>\n",
       "      <td>330.899</td>\n",
       "      <td>0.015</td>\n",
       "      <td>NaN</td>\n",
       "      <td>in situ</td>\n",
       "    </tr>\n",
       "    <tr>\n",
       "      <th>1976-11-15</th>\n",
       "      <td>1976.8716</td>\n",
       "      <td>330.883</td>\n",
       "      <td>0.243</td>\n",
       "      <td>2.14600</td>\n",
       "      <td>in situ</td>\n",
       "    </tr>\n",
       "    <tr>\n",
       "      <th>1976-12-15</th>\n",
       "      <td>1976.9536</td>\n",
       "      <td>330.677</td>\n",
       "      <td>0.187</td>\n",
       "      <td>2.51199</td>\n",
       "      <td>in situ</td>\n",
       "    </tr>\n",
       "    <tr>\n",
       "      <th>1977-01-15</th>\n",
       "      <td>1977.0384</td>\n",
       "      <td>330.529</td>\n",
       "      <td>0.235</td>\n",
       "      <td>2.14697</td>\n",
       "      <td>in situ</td>\n",
       "    </tr>\n",
       "    <tr>\n",
       "      <th>1977-02-15</th>\n",
       "      <td>1977.1233</td>\n",
       "      <td>330.543</td>\n",
       "      <td>0.198</td>\n",
       "      <td>1.77701</td>\n",
       "      <td>in situ</td>\n",
       "    </tr>\n",
       "    <tr>\n",
       "      <th>1977-03-15</th>\n",
       "      <td>1977.2000</td>\n",
       "      <td>330.724</td>\n",
       "      <td>0.119</td>\n",
       "      <td>2.06799</td>\n",
       "      <td>in situ</td>\n",
       "    </tr>\n",
       "    <tr>\n",
       "      <th>1977-04-15</th>\n",
       "      <td>1977.2849</td>\n",
       "      <td>330.805</td>\n",
       "      <td>0.178</td>\n",
       "      <td>2.13501</td>\n",
       "      <td>in situ</td>\n",
       "    </tr>\n",
       "  </tbody>\n",
       "</table>\n",
       "</div>"
      ],
      "text/plain": [
       "                 DATE  CO2(ppm)  SD(ppm)  GR(ppm/yr)   Source\n",
       "date                                                         \n",
       "1976-05-15  1976.3689   328.861    0.165         NaN  in situ\n",
       "1976-06-15  1976.4536   328.988    0.285         NaN  in situ\n",
       "1976-07-15  1976.5355   329.653    0.282         NaN  in situ\n",
       "1976-08-15  1976.6202   330.550    0.201         NaN  in situ\n",
       "1976-09-15  1976.7049   330.872    0.234         NaN  in situ\n",
       "1976-10-15  1976.7869   330.899    0.015         NaN  in situ\n",
       "1976-11-15  1976.8716   330.883    0.243     2.14600  in situ\n",
       "1976-12-15  1976.9536   330.677    0.187     2.51199  in situ\n",
       "1977-01-15  1977.0384   330.529    0.235     2.14697  in situ\n",
       "1977-02-15  1977.1233   330.543    0.198     1.77701  in situ\n",
       "1977-03-15  1977.2000   330.724    0.119     2.06799  in situ\n",
       "1977-04-15  1977.2849   330.805    0.178     2.13501  in situ"
      ]
     },
     "execution_count": 23,
     "metadata": {},
     "output_type": "execute_result"
    }
   ],
   "source": [
    "df.iloc[0:12]"
   ]
  },
  {
   "cell_type": "markdown",
   "id": "9f830aae-1c22-433a-9f8c-c5b54f2cb205",
   "metadata": {},
   "source": [
    "In the next example, we illustrate how you can use slices of rows and lists of columns to create a smaller `DataFrame` out of an existing `DataFrame`:"
   ]
  },
  {
   "cell_type": "code",
   "execution_count": 24,
   "id": "9479a818-56ba-42e0-bbaf-1b86f1538c7a",
   "metadata": {},
   "outputs": [
    {
     "data": {
      "text/html": [
       "<div>\n",
       "<style scoped>\n",
       "    .dataframe tbody tr th:only-of-type {\n",
       "        vertical-align: middle;\n",
       "    }\n",
       "\n",
       "    .dataframe tbody tr th {\n",
       "        vertical-align: top;\n",
       "    }\n",
       "\n",
       "    .dataframe thead th {\n",
       "        text-align: right;\n",
       "    }\n",
       "</style>\n",
       "<table border=\"1\" class=\"dataframe\">\n",
       "  <thead>\n",
       "    <tr style=\"text-align: right;\">\n",
       "      <th></th>\n",
       "      <th>CO2(ppm)</th>\n",
       "      <th>SD(ppm)</th>\n",
       "    </tr>\n",
       "    <tr>\n",
       "      <th>date</th>\n",
       "      <th></th>\n",
       "      <th></th>\n",
       "    </tr>\n",
       "  </thead>\n",
       "  <tbody>\n",
       "    <tr>\n",
       "      <th>1982-01-15</th>\n",
       "      <td>337.306</td>\n",
       "      <td>0.193</td>\n",
       "    </tr>\n",
       "    <tr>\n",
       "      <th>1982-02-15</th>\n",
       "      <td>337.127</td>\n",
       "      <td>0.179</td>\n",
       "    </tr>\n",
       "    <tr>\n",
       "      <th>1982-03-15</th>\n",
       "      <td>337.274</td>\n",
       "      <td>0.290</td>\n",
       "    </tr>\n",
       "    <tr>\n",
       "      <th>1982-04-15</th>\n",
       "      <td>337.698</td>\n",
       "      <td>0.241</td>\n",
       "    </tr>\n",
       "    <tr>\n",
       "      <th>1982-05-15</th>\n",
       "      <td>338.032</td>\n",
       "      <td>0.187</td>\n",
       "    </tr>\n",
       "    <tr>\n",
       "      <th>1982-06-15</th>\n",
       "      <td>338.186</td>\n",
       "      <td>0.153</td>\n",
       "    </tr>\n",
       "    <tr>\n",
       "      <th>1982-07-15</th>\n",
       "      <td>338.551</td>\n",
       "      <td>0.186</td>\n",
       "    </tr>\n",
       "    <tr>\n",
       "      <th>1982-08-15</th>\n",
       "      <td>338.898</td>\n",
       "      <td>0.153</td>\n",
       "    </tr>\n",
       "    <tr>\n",
       "      <th>1982-09-15</th>\n",
       "      <td>338.822</td>\n",
       "      <td>0.213</td>\n",
       "    </tr>\n",
       "    <tr>\n",
       "      <th>1982-10-15</th>\n",
       "      <td>338.634</td>\n",
       "      <td>0.195</td>\n",
       "    </tr>\n",
       "    <tr>\n",
       "      <th>1982-11-15</th>\n",
       "      <td>338.557</td>\n",
       "      <td>0.163</td>\n",
       "    </tr>\n",
       "  </tbody>\n",
       "</table>\n",
       "</div>"
      ],
      "text/plain": [
       "            CO2(ppm)  SD(ppm)\n",
       "date                         \n",
       "1982-01-15   337.306    0.193\n",
       "1982-02-15   337.127    0.179\n",
       "1982-03-15   337.274    0.290\n",
       "1982-04-15   337.698    0.241\n",
       "1982-05-15   338.032    0.187\n",
       "1982-06-15   338.186    0.153\n",
       "1982-07-15   338.551    0.186\n",
       "1982-08-15   338.898    0.153\n",
       "1982-09-15   338.822    0.213\n",
       "1982-10-15   338.634    0.195\n",
       "1982-11-15   338.557    0.163"
      ]
     },
     "execution_count": 24,
     "metadata": {},
     "output_type": "execute_result"
    }
   ],
   "source": [
    "df.loc[\n",
    "    \"1982-01-01\":\"1982-12-01\",  # slice of rows\n",
    "    [\"CO2(ppm)\", \"SD(ppm)\"],  # list of columns\n",
    "]"
   ]
  },
  {
   "cell_type": "markdown",
   "id": "e7c456cf-b821-4e4d-9dc2-afaf60807ae8",
   "metadata": {},
   "source": [
    "<div class=\"admonition alert alert-info\">\n",
    "    <p class=\"admonition-title\" style=\"font-weight:bold\">Info</p>\n",
    "    There are certain limitations to these subsetting techniques. For more information on these limitations, as well as a comparison of <code>DataFrame</code> and <code>Series</code> indexing methods, see the <a href=\"https://pandas.pydata.org/docs/user_guide/indexing.html\">Pandas indexing documentation.</a>\n",
    "</div>"
   ]
  },
  {
   "cell_type": "markdown",
   "id": "970220cc-6e6e-49d2-9166-379c53a9f2ef",
   "metadata": {},
   "source": [
    "## Exploratory Data Analysis\n",
    "\n",
    "### Get a Quick Look at the Beginning/End of your `DataFrame`\n",
    "Pandas also gives you a few shortcuts to quickly investigate entire `DataFrames`. The `head` method shows the first five rows of a `DataFrame`, and the `tail` method shows the last five rows of a `DataFrame`."
   ]
  },
  {
   "cell_type": "code",
   "execution_count": 25,
   "id": "296badb6-fd6c-4285-9fad-019f5d876fa3",
   "metadata": {},
   "outputs": [
    {
     "data": {
      "text/html": [
       "<div>\n",
       "<style scoped>\n",
       "    .dataframe tbody tr th:only-of-type {\n",
       "        vertical-align: middle;\n",
       "    }\n",
       "\n",
       "    .dataframe tbody tr th {\n",
       "        vertical-align: top;\n",
       "    }\n",
       "\n",
       "    .dataframe thead th {\n",
       "        text-align: right;\n",
       "    }\n",
       "</style>\n",
       "<table border=\"1\" class=\"dataframe\">\n",
       "  <thead>\n",
       "    <tr style=\"text-align: right;\">\n",
       "      <th></th>\n",
       "      <th>DATE</th>\n",
       "      <th>CO2(ppm)</th>\n",
       "      <th>SD(ppm)</th>\n",
       "      <th>GR(ppm/yr)</th>\n",
       "      <th>Source</th>\n",
       "    </tr>\n",
       "    <tr>\n",
       "      <th>date</th>\n",
       "      <th></th>\n",
       "      <th></th>\n",
       "      <th></th>\n",
       "      <th></th>\n",
       "      <th></th>\n",
       "    </tr>\n",
       "  </thead>\n",
       "  <tbody>\n",
       "    <tr>\n",
       "      <th>1976-05-15</th>\n",
       "      <td>1976.3689</td>\n",
       "      <td>328.861</td>\n",
       "      <td>0.165</td>\n",
       "      <td>NaN</td>\n",
       "      <td>in situ</td>\n",
       "    </tr>\n",
       "    <tr>\n",
       "      <th>1976-06-15</th>\n",
       "      <td>1976.4536</td>\n",
       "      <td>328.988</td>\n",
       "      <td>0.285</td>\n",
       "      <td>NaN</td>\n",
       "      <td>in situ</td>\n",
       "    </tr>\n",
       "    <tr>\n",
       "      <th>1976-07-15</th>\n",
       "      <td>1976.5355</td>\n",
       "      <td>329.653</td>\n",
       "      <td>0.282</td>\n",
       "      <td>NaN</td>\n",
       "      <td>in situ</td>\n",
       "    </tr>\n",
       "    <tr>\n",
       "      <th>1976-08-15</th>\n",
       "      <td>1976.6202</td>\n",
       "      <td>330.550</td>\n",
       "      <td>0.201</td>\n",
       "      <td>NaN</td>\n",
       "      <td>in situ</td>\n",
       "    </tr>\n",
       "    <tr>\n",
       "      <th>1976-09-15</th>\n",
       "      <td>1976.7049</td>\n",
       "      <td>330.872</td>\n",
       "      <td>0.234</td>\n",
       "      <td>NaN</td>\n",
       "      <td>in situ</td>\n",
       "    </tr>\n",
       "  </tbody>\n",
       "</table>\n",
       "</div>"
      ],
      "text/plain": [
       "                 DATE  CO2(ppm)  SD(ppm)  GR(ppm/yr)   Source\n",
       "date                                                         \n",
       "1976-05-15  1976.3689   328.861    0.165         NaN  in situ\n",
       "1976-06-15  1976.4536   328.988    0.285         NaN  in situ\n",
       "1976-07-15  1976.5355   329.653    0.282         NaN  in situ\n",
       "1976-08-15  1976.6202   330.550    0.201         NaN  in situ\n",
       "1976-09-15  1976.7049   330.872    0.234         NaN  in situ"
      ]
     },
     "execution_count": 25,
     "metadata": {},
     "output_type": "execute_result"
    }
   ],
   "source": [
    "df.head()"
   ]
  },
  {
   "cell_type": "code",
   "execution_count": 26,
   "id": "33f488e6-7b08-4742-a9ad-e63d6014e85e",
   "metadata": {},
   "outputs": [
    {
     "data": {
      "text/html": [
       "<div>\n",
       "<style scoped>\n",
       "    .dataframe tbody tr th:only-of-type {\n",
       "        vertical-align: middle;\n",
       "    }\n",
       "\n",
       "    .dataframe tbody tr th {\n",
       "        vertical-align: top;\n",
       "    }\n",
       "\n",
       "    .dataframe thead th {\n",
       "        text-align: right;\n",
       "    }\n",
       "</style>\n",
       "<table border=\"1\" class=\"dataframe\">\n",
       "  <thead>\n",
       "    <tr style=\"text-align: right;\">\n",
       "      <th></th>\n",
       "      <th>DATE</th>\n",
       "      <th>CO2(ppm)</th>\n",
       "      <th>SD(ppm)</th>\n",
       "      <th>GR(ppm/yr)</th>\n",
       "      <th>Source</th>\n",
       "    </tr>\n",
       "    <tr>\n",
       "      <th>date</th>\n",
       "      <th></th>\n",
       "      <th></th>\n",
       "      <th></th>\n",
       "      <th></th>\n",
       "      <th></th>\n",
       "    </tr>\n",
       "  </thead>\n",
       "  <tbody>\n",
       "    <tr>\n",
       "      <th>2024-08-15</th>\n",
       "      <td>2024.62022</td>\n",
       "      <td>420.795</td>\n",
       "      <td>0.157</td>\n",
       "      <td>NaN</td>\n",
       "      <td>in situ</td>\n",
       "    </tr>\n",
       "    <tr>\n",
       "      <th>2024-09-15</th>\n",
       "      <td>2024.70492</td>\n",
       "      <td>421.180</td>\n",
       "      <td>0.139</td>\n",
       "      <td>NaN</td>\n",
       "      <td>in situ</td>\n",
       "    </tr>\n",
       "    <tr>\n",
       "      <th>2024-10-15</th>\n",
       "      <td>2024.78689</td>\n",
       "      <td>421.397</td>\n",
       "      <td>0.097</td>\n",
       "      <td>NaN</td>\n",
       "      <td>in situ</td>\n",
       "    </tr>\n",
       "    <tr>\n",
       "      <th>2024-11-15</th>\n",
       "      <td>2024.87158</td>\n",
       "      <td>421.414</td>\n",
       "      <td>0.156</td>\n",
       "      <td>NaN</td>\n",
       "      <td>in situ</td>\n",
       "    </tr>\n",
       "    <tr>\n",
       "      <th>2024-12-15</th>\n",
       "      <td>2024.95355</td>\n",
       "      <td>421.377</td>\n",
       "      <td>0.171</td>\n",
       "      <td>NaN</td>\n",
       "      <td>in situ</td>\n",
       "    </tr>\n",
       "  </tbody>\n",
       "</table>\n",
       "</div>"
      ],
      "text/plain": [
       "                  DATE  CO2(ppm)  SD(ppm)  GR(ppm/yr)   Source\n",
       "date                                                          \n",
       "2024-08-15  2024.62022   420.795    0.157         NaN  in situ\n",
       "2024-09-15  2024.70492   421.180    0.139         NaN  in situ\n",
       "2024-10-15  2024.78689   421.397    0.097         NaN  in situ\n",
       "2024-11-15  2024.87158   421.414    0.156         NaN  in situ\n",
       "2024-12-15  2024.95355   421.377    0.171         NaN  in situ"
      ]
     },
     "execution_count": 26,
     "metadata": {},
     "output_type": "execute_result"
    }
   ],
   "source": [
    "df.tail()"
   ]
  },
  {
   "cell_type": "markdown",
   "id": "9b6d80a9-3ed8-4210-a9b8-b754ae30f257",
   "metadata": {},
   "source": [
    "### Quick Plots of Your Data\n",
    "A good way to explore your data is by making a simple plot. Pandas contains its own `plot` method; this allows us to plot Pandas series without needing `matplotlib`.  In this example, we plot the `Nino34` series of our `df` `DataFrame` in this way:"
   ]
  },
  {
   "cell_type": "code",
   "execution_count": 27,
   "id": "0afba302-2ed0-4962-a577-a3c03e7ced05",
   "metadata": {},
   "outputs": [
    {
     "data": {
      "image/png": "[encoded data removed]",
      "text/plain": [
       "<Figure size 640x480 with 1 Axes>"
      ]
     },
     "metadata": {},
     "output_type": "display_data"
    }
   ],
   "source": [
    "df[\"CO2(ppm)\"].plot();"
   ]
  },
  {
   "cell_type": "markdown",
   "id": "bc22d7e6-0aa5-40f7-83d6-abf3de74d597",
   "metadata": {},
   "source": [
    "Before, we called `.plot()`, which generated a single line plot. Line plots can be helpful for understanding some types of data, but there are other types of data that can be better understood with different plot types. For example, if your data values form a distribution, you can better understand them using a histogram plot.\n",
    "\n",
    "The code for plotting histogram data differs in two ways from the code above for the line plot. First, two series are being used from the `DataFrame` instead of one.  Second, after calling the `plot` method, we call an additional method called `hist`, which converts the plot into a histogram."
   ]
  },
  {
   "cell_type": "code",
   "execution_count": 28,
   "id": "e1f5cbdd-87f6-4c7f-9e03-31c341ca23e3",
   "metadata": {},
   "outputs": [
    {
     "data": {
      "image/png": "[encoded data removed]",
      "text/plain": [
       "<Figure size 640x480 with 1 Axes>"
      ]
     },
     "metadata": {},
     "output_type": "display_data"
    }
   ],
   "source": [
    "df[['CO2(ppm)']].plot.hist();"
   ]
  },
  {
   "cell_type": "markdown",
   "id": "d48f1bec-4918-4e36-a8a0-d3fed98ab7e1",
   "metadata": {},
   "source": [
    "The histogram plot helped us better understand our data; there are clear differences in the distributions. To even better understand this type of data, it may also be helpful to create a box plot. This can be done using the same line of code, with one change: we call the `box` method instead of `hist`."
   ]
  },
  {
   "cell_type": "code",
   "execution_count": 29,
   "id": "00c768bb-384d-4f6b-9719-28c133595fdc",
   "metadata": {},
   "outputs": [
    {
     "data": {
      "image/png": "[encoded data removed]",
      "text/plain": [
       "<Figure size 640x480 with 1 Axes>"
      ]
     },
     "metadata": {},
     "output_type": "display_data"
    }
   ],
   "source": [
    "df[['CO2(ppm)']].plot.box();"
   ]
  },
  {
   "cell_type": "markdown",
   "id": "bd43ebeb-9b10-4a55-9f49-27b841181b8a",
   "metadata": {},
   "source": [
    "Just like the histogram plot, this box plot indicates a clear difference in the distributions. Using multiple types of plot in this way can be useful for verifying large datasets. The pandas plotting methods are capable of creating many different types of plots. To see how to use the plotting methods to generate each type of plot, please review the [pandas plot documentation](https://pandas.pydata.org/docs/reference/api/pandas.DataFrame.plot.html)."
   ]
  },
  {
   "cell_type": "markdown",
   "id": "3f4707df-96e1-4314-8ea6-39369db0c1e1",
   "metadata": {},
   "source": [
    "#### Customize your Plot\n",
    "The pandas plotting methods are, in fact, wrappers for similar methods in matplotlib. This means that you can customize pandas plots by including keyword arguments to the plotting methods.  These keyword arguments, for the most part, are equivalent to their matplotlib counterparts."
   ]
  },
  {
   "cell_type": "code",
   "execution_count": 30,
   "id": "e52d0db1-07eb-44d2-860a-073357996471",
   "metadata": {},
   "outputs": [
    {
     "data": {
      "image/png": "[encoded data removed]",
      "text/plain": [
       "<Figure size 800x600 with 1 Axes>"
      ]
     },
     "metadata": {},
     "output_type": "display_data"
    }
   ],
   "source": [
    "df['CO2(ppm)'].plot(\n",
    "    color='black', # Change the color\n",
    "    linewidth=2, # Make the line wider\n",
    "    xlabel='Year', # Add a label to the xaxis\n",
    "    ylabel=f'$CO^{2}$ [ppm]', # Add a label to the axis including units and latex syntax\n",
    "    figsize=(8, 6), # Change the dimensions of the figure\n",
    ");"
   ]
  },
  {
   "cell_type": "markdown",
   "id": "836e140e-0830-41b0-b13f-815c357948a6",
   "metadata": {},
   "source": [
    "Although plotting data can provide a clear visual picture of data values, sometimes a more quantitative look at data is warranted. As elaborated on in the next section, this can be achieved using the `describe` method.  The `describe` method is called on the entire `DataFrame`, and returns various summarized statistics for each column in the `DataFrame`."
   ]
  },
  {
   "cell_type": "markdown",
   "id": "0ab03a16-6739-450d-b522-51cd0566dce6",
   "metadata": {},
   "source": [
    "### Basic Statistics\n",
    "\n",
    "We can garner statistics for a `DataFrame` by using the `describe` method. When this method is called on a `DataFrame`, a set of statistics is returned in tabular format.  The columns match those of the `DataFrame`, and the rows indicate different statistics, such as minimum."
   ]
  },
  {
   "cell_type": "code",
   "execution_count": 31,
   "id": "edc72336-d731-4472-8b41-65689c6d395e",
   "metadata": {},
   "outputs": [
    {
     "data": {
      "text/html": [
       "<div>\n",
       "<style scoped>\n",
       "    .dataframe tbody tr th:only-of-type {\n",
       "        vertical-align: middle;\n",
       "    }\n",
       "\n",
       "    .dataframe tbody tr th {\n",
       "        vertical-align: top;\n",
       "    }\n",
       "\n",
       "    .dataframe thead th {\n",
       "        text-align: right;\n",
       "    }\n",
       "</style>\n",
       "<table border=\"1\" class=\"dataframe\">\n",
       "  <thead>\n",
       "    <tr style=\"text-align: right;\">\n",
       "      <th></th>\n",
       "      <th>DATE</th>\n",
       "      <th>CO2(ppm)</th>\n",
       "      <th>SD(ppm)</th>\n",
       "      <th>GR(ppm/yr)</th>\n",
       "    </tr>\n",
       "  </thead>\n",
       "  <tbody>\n",
       "    <tr>\n",
       "      <th>count</th>\n",
       "      <td>584.000000</td>\n",
       "      <td>584.000000</td>\n",
       "      <td>584.000000</td>\n",
       "      <td>572.000000</td>\n",
       "    </tr>\n",
       "    <tr>\n",
       "      <th>mean</th>\n",
       "      <td>2000.661426</td>\n",
       "      <td>370.293872</td>\n",
       "      <td>0.170344</td>\n",
       "      <td>1.881241</td>\n",
       "    </tr>\n",
       "    <tr>\n",
       "      <th>std</th>\n",
       "      <td>14.060892</td>\n",
       "      <td>25.916594</td>\n",
       "      <td>0.057848</td>\n",
       "      <td>0.644109</td>\n",
       "    </tr>\n",
       "    <tr>\n",
       "      <th>min</th>\n",
       "      <td>1976.368900</td>\n",
       "      <td>328.861000</td>\n",
       "      <td>0.015000</td>\n",
       "      <td>-0.102997</td>\n",
       "    </tr>\n",
       "    <tr>\n",
       "      <th>25%</th>\n",
       "      <td>1988.515025</td>\n",
       "      <td>348.600750</td>\n",
       "      <td>0.136900</td>\n",
       "      <td>1.449760</td>\n",
       "    </tr>\n",
       "    <tr>\n",
       "      <th>50%</th>\n",
       "      <td>2000.662568</td>\n",
       "      <td>367.511500</td>\n",
       "      <td>0.167000</td>\n",
       "      <td>1.874510</td>\n",
       "    </tr>\n",
       "    <tr>\n",
       "      <th>75%</th>\n",
       "      <td>2012.808060</td>\n",
       "      <td>391.303250</td>\n",
       "      <td>0.200000</td>\n",
       "      <td>2.276505</td>\n",
       "    </tr>\n",
       "    <tr>\n",
       "      <th>max</th>\n",
       "      <td>2024.953550</td>\n",
       "      <td>421.414000</td>\n",
       "      <td>0.610600</td>\n",
       "      <td>3.920990</td>\n",
       "    </tr>\n",
       "  </tbody>\n",
       "</table>\n",
       "</div>"
      ],
      "text/plain": [
       "              DATE    CO2(ppm)     SD(ppm)  GR(ppm/yr)\n",
       "count   584.000000  584.000000  584.000000  572.000000\n",
       "mean   2000.661426  370.293872    0.170344    1.881241\n",
       "std      14.060892   25.916594    0.057848    0.644109\n",
       "min    1976.368900  328.861000    0.015000   -0.102997\n",
       "25%    1988.515025  348.600750    0.136900    1.449760\n",
       "50%    2000.662568  367.511500    0.167000    1.874510\n",
       "75%    2012.808060  391.303250    0.200000    2.276505\n",
       "max    2024.953550  421.414000    0.610600    3.920990"
      ]
     },
     "execution_count": 31,
     "metadata": {},
     "output_type": "execute_result"
    }
   ],
   "source": [
    "df.describe()"
   ]
  },
  {
   "cell_type": "markdown",
   "id": "69330d78-4bd9-4bb1-be11-172f9ac20554",
   "metadata": {},
   "source": [
    "You can also view specific statistics using corresponding methods. In this example, we look at the mean values in the entire `DataFrame`, using the `mean` method.  When such methods are called on the entire `DataFrame`, a `Series` is returned. The indices of this `Series` are the column names in the `DataFrame`, and the values are the calculated values (in this case, mean values) for the `DataFrame` columns."
   ]
  },
  {
   "cell_type": "code",
   "execution_count": 32,
   "id": "46058d4f-0101-4771-bf01-24129fb054e9",
   "metadata": {},
   "outputs": [
    {
     "data": {
      "text/plain": [
       "np.float64(370.29387157534245)"
      ]
     },
     "execution_count": 32,
     "metadata": {},
     "output_type": "execute_result"
    }
   ],
   "source": [
    "df[\"CO2(ppm)\"].mean()"
   ]
  },
  {
   "cell_type": "markdown",
   "id": "0ebe0e2f-251d-4f39-a58a-ad4bd6313eb8",
   "metadata": {},
   "source": [
    "### Subsetting Using the Datetime Column\n",
    "\n",
    "Slicing is a useful technique for subsetting a `DataFrame`, but there are also other options that can be equally useful. In this section, some of these additional techniques are covered.\n",
    "\n",
    "If your `DataFrame` uses datetime values for indices, you can select data from only one month using `df.index.month`. In this example, we specify the number 1, which only selects data from January."
   ]
  },
  {
   "cell_type": "markdown",
   "id": "0a7e4977-7e77-4408-82bd-fa4127b70986",
   "metadata": {},
   "source": [
    "This example shows how to create a new column containing the month portion of the datetime index for each data row. The value returned by `df.index.month` is used to obtain the data for this new column:"
   ]
  },
  {
   "cell_type": "code",
   "execution_count": 33,
   "id": "08b1e2e4-2e4c-4dd3-b3ab-3c2dc05de9e6",
   "metadata": {},
   "outputs": [],
   "source": [
    "df['month'] = df.index.month"
   ]
  },
  {
   "cell_type": "markdown",
   "id": "48648973-78c1-40f5-a5cf-c1646ffd3766",
   "metadata": {},
   "source": [
    "This next example illustrates how to use the new month column to calculate average monthly values over the other data columns. First, we use the `groupby` method to group the other columns by the month.  Second, we take the average (mean) to obtain the monthly averages. Finally, we plot the resulting data as a line plot by simply calling `plot()`."
   ]
  },
  {
   "cell_type": "code",
   "execution_count": 34,
   "id": "b35e993e-afc6-421a-98be-650c02864c43",
   "metadata": {},
   "outputs": [
    {
     "data": {
      "image/png": "[encoded data removed]",
      "text/plain": [
       "<Figure size 640x480 with 1 Axes>"
      ]
     },
     "metadata": {},
     "output_type": "display_data"
    }
   ],
   "source": [
    "df.groupby('month')[\"CO2(ppm)\"].mean().plot();"
   ]
  },
  {
   "cell_type": "markdown",
   "id": "748569e0-aaf0-41f7-b9db-25f0bba5df8b",
   "metadata": {},
   "source": [
    "### Investigating Extreme Values"
   ]
  },
  {
   "cell_type": "markdown",
   "id": "49c4afe6-e72b-4ad1-93a0-b72df7d93d4b",
   "metadata": {},
   "source": [
    "If you need to search for rows that meet a specific criterion, you can use **conditional indexing**.  In this example, we search for rows where the $CO^{2}$ values exceed the 95th percentile across all the data from the beginning of the record:"
   ]
  },
  {
   "cell_type": "code",
   "execution_count": 35,
   "id": "84bed818-3ef0-44e4-98a1-1dd29d51a89d",
   "metadata": {},
   "outputs": [
    {
     "data": {
      "text/html": [
       "<div>\n",
       "<style scoped>\n",
       "    .dataframe tbody tr th:only-of-type {\n",
       "        vertical-align: middle;\n",
       "    }\n",
       "\n",
       "    .dataframe tbody tr th {\n",
       "        vertical-align: top;\n",
       "    }\n",
       "\n",
       "    .dataframe thead th {\n",
       "        text-align: right;\n",
       "    }\n",
       "</style>\n",
       "<table border=\"1\" class=\"dataframe\">\n",
       "  <thead>\n",
       "    <tr style=\"text-align: right;\">\n",
       "      <th></th>\n",
       "      <th>DATE</th>\n",
       "      <th>CO2(ppm)</th>\n",
       "      <th>SD(ppm)</th>\n",
       "      <th>GR(ppm/yr)</th>\n",
       "      <th>Source</th>\n",
       "      <th>month</th>\n",
       "    </tr>\n",
       "    <tr>\n",
       "      <th>date</th>\n",
       "      <th></th>\n",
       "      <th></th>\n",
       "      <th></th>\n",
       "      <th></th>\n",
       "      <th></th>\n",
       "      <th></th>\n",
       "    </tr>\n",
       "  </thead>\n",
       "  <tbody>\n",
       "    <tr>\n",
       "      <th>2022-07-15</th>\n",
       "      <td>2022.53425</td>\n",
       "      <td>414.547</td>\n",
       "      <td>0.184</td>\n",
       "      <td>1.87201</td>\n",
       "      <td>in situ</td>\n",
       "      <td>7</td>\n",
       "    </tr>\n",
       "    <tr>\n",
       "      <th>2022-08-15</th>\n",
       "      <td>2022.61918</td>\n",
       "      <td>415.053</td>\n",
       "      <td>0.178</td>\n",
       "      <td>1.84100</td>\n",
       "      <td>in situ</td>\n",
       "      <td>8</td>\n",
       "    </tr>\n",
       "    <tr>\n",
       "      <th>2022-09-15</th>\n",
       "      <td>2022.70411</td>\n",
       "      <td>415.279</td>\n",
       "      <td>0.122</td>\n",
       "      <td>1.84702</td>\n",
       "      <td>in situ</td>\n",
       "      <td>9</td>\n",
       "    </tr>\n",
       "    <tr>\n",
       "      <th>2022-10-15</th>\n",
       "      <td>2022.78630</td>\n",
       "      <td>415.304</td>\n",
       "      <td>0.126</td>\n",
       "      <td>1.89099</td>\n",
       "      <td>in situ</td>\n",
       "      <td>10</td>\n",
       "    </tr>\n",
       "    <tr>\n",
       "      <th>2022-11-15</th>\n",
       "      <td>2022.87123</td>\n",
       "      <td>415.329</td>\n",
       "      <td>0.117</td>\n",
       "      <td>1.99701</td>\n",
       "      <td>in situ</td>\n",
       "      <td>11</td>\n",
       "    </tr>\n",
       "    <tr>\n",
       "      <th>2022-12-15</th>\n",
       "      <td>2022.95342</td>\n",
       "      <td>415.190</td>\n",
       "      <td>0.166</td>\n",
       "      <td>2.04501</td>\n",
       "      <td>in situ</td>\n",
       "      <td>12</td>\n",
       "    </tr>\n",
       "    <tr>\n",
       "      <th>2023-01-15</th>\n",
       "      <td>2023.03836</td>\n",
       "      <td>414.958</td>\n",
       "      <td>0.189</td>\n",
       "      <td>2.00900</td>\n",
       "      <td>in situ</td>\n",
       "      <td>1</td>\n",
       "    </tr>\n",
       "    <tr>\n",
       "      <th>2023-02-15</th>\n",
       "      <td>2023.12329</td>\n",
       "      <td>414.989</td>\n",
       "      <td>0.169</td>\n",
       "      <td>2.03000</td>\n",
       "      <td>in situ</td>\n",
       "      <td>2</td>\n",
       "    </tr>\n",
       "    <tr>\n",
       "      <th>2023-03-15</th>\n",
       "      <td>2023.20000</td>\n",
       "      <td>415.174</td>\n",
       "      <td>0.173</td>\n",
       "      <td>2.11401</td>\n",
       "      <td>in situ</td>\n",
       "      <td>3</td>\n",
       "    </tr>\n",
       "    <tr>\n",
       "      <th>2023-04-15</th>\n",
       "      <td>2023.28493</td>\n",
       "      <td>415.379</td>\n",
       "      <td>0.146</td>\n",
       "      <td>2.27103</td>\n",
       "      <td>in situ</td>\n",
       "      <td>4</td>\n",
       "    </tr>\n",
       "    <tr>\n",
       "      <th>2023-05-15</th>\n",
       "      <td>2023.36712</td>\n",
       "      <td>415.713</td>\n",
       "      <td>0.164</td>\n",
       "      <td>2.44498</td>\n",
       "      <td>in situ</td>\n",
       "      <td>5</td>\n",
       "    </tr>\n",
       "    <tr>\n",
       "      <th>2023-06-15</th>\n",
       "      <td>2023.45205</td>\n",
       "      <td>416.113</td>\n",
       "      <td>0.149</td>\n",
       "      <td>2.64999</td>\n",
       "      <td>in situ</td>\n",
       "      <td>6</td>\n",
       "    </tr>\n",
       "    <tr>\n",
       "      <th>2023-07-15</th>\n",
       "      <td>2023.53425</td>\n",
       "      <td>416.556</td>\n",
       "      <td>0.195</td>\n",
       "      <td>3.01300</td>\n",
       "      <td>in situ</td>\n",
       "      <td>7</td>\n",
       "    </tr>\n",
       "    <tr>\n",
       "      <th>2023-08-15</th>\n",
       "      <td>2023.61918</td>\n",
       "      <td>417.083</td>\n",
       "      <td>0.204</td>\n",
       "      <td>3.23898</td>\n",
       "      <td>in situ</td>\n",
       "      <td>8</td>\n",
       "    </tr>\n",
       "    <tr>\n",
       "      <th>2023-09-15</th>\n",
       "      <td>2023.70411</td>\n",
       "      <td>417.393</td>\n",
       "      <td>0.137</td>\n",
       "      <td>3.43399</td>\n",
       "      <td>in situ</td>\n",
       "      <td>9</td>\n",
       "    </tr>\n",
       "    <tr>\n",
       "      <th>2023-10-15</th>\n",
       "      <td>2023.78630</td>\n",
       "      <td>417.575</td>\n",
       "      <td>0.126</td>\n",
       "      <td>3.69400</td>\n",
       "      <td>in situ</td>\n",
       "      <td>10</td>\n",
       "    </tr>\n",
       "    <tr>\n",
       "      <th>2023-11-15</th>\n",
       "      <td>2023.87123</td>\n",
       "      <td>417.774</td>\n",
       "      <td>0.185</td>\n",
       "      <td>3.80099</td>\n",
       "      <td>in situ</td>\n",
       "      <td>11</td>\n",
       "    </tr>\n",
       "    <tr>\n",
       "      <th>2023-12-15</th>\n",
       "      <td>2023.95342</td>\n",
       "      <td>417.840</td>\n",
       "      <td>0.178</td>\n",
       "      <td>3.92099</td>\n",
       "      <td>in situ</td>\n",
       "      <td>12</td>\n",
       "    </tr>\n",
       "    <tr>\n",
       "      <th>2024-01-15</th>\n",
       "      <td>2024.03825</td>\n",
       "      <td>417.971</td>\n",
       "      <td>0.184</td>\n",
       "      <td>3.90701</td>\n",
       "      <td>in situ</td>\n",
       "      <td>1</td>\n",
       "    </tr>\n",
       "    <tr>\n",
       "      <th>2024-02-15</th>\n",
       "      <td>2024.12295</td>\n",
       "      <td>418.228</td>\n",
       "      <td>0.210</td>\n",
       "      <td>3.71201</td>\n",
       "      <td>in situ</td>\n",
       "      <td>2</td>\n",
       "    </tr>\n",
       "    <tr>\n",
       "      <th>2024-03-15</th>\n",
       "      <td>2024.20219</td>\n",
       "      <td>418.608</td>\n",
       "      <td>0.215</td>\n",
       "      <td>3.78699</td>\n",
       "      <td>in situ</td>\n",
       "      <td>3</td>\n",
       "    </tr>\n",
       "    <tr>\n",
       "      <th>2024-04-15</th>\n",
       "      <td>2024.28689</td>\n",
       "      <td>419.073</td>\n",
       "      <td>0.215</td>\n",
       "      <td>3.82199</td>\n",
       "      <td>in situ</td>\n",
       "      <td>4</td>\n",
       "    </tr>\n",
       "    <tr>\n",
       "      <th>2024-05-15</th>\n",
       "      <td>2024.36885</td>\n",
       "      <td>419.514</td>\n",
       "      <td>0.199</td>\n",
       "      <td>3.64001</td>\n",
       "      <td>in situ</td>\n",
       "      <td>5</td>\n",
       "    </tr>\n",
       "    <tr>\n",
       "      <th>2024-06-15</th>\n",
       "      <td>2024.45355</td>\n",
       "      <td>420.034</td>\n",
       "      <td>0.214</td>\n",
       "      <td>3.53702</td>\n",
       "      <td>in situ</td>\n",
       "      <td>6</td>\n",
       "    </tr>\n",
       "    <tr>\n",
       "      <th>2024-07-15</th>\n",
       "      <td>2024.53552</td>\n",
       "      <td>420.463</td>\n",
       "      <td>0.148</td>\n",
       "      <td>NaN</td>\n",
       "      <td>in situ</td>\n",
       "      <td>7</td>\n",
       "    </tr>\n",
       "    <tr>\n",
       "      <th>2024-08-15</th>\n",
       "      <td>2024.62022</td>\n",
       "      <td>420.795</td>\n",
       "      <td>0.157</td>\n",
       "      <td>NaN</td>\n",
       "      <td>in situ</td>\n",
       "      <td>8</td>\n",
       "    </tr>\n",
       "    <tr>\n",
       "      <th>2024-09-15</th>\n",
       "      <td>2024.70492</td>\n",
       "      <td>421.180</td>\n",
       "      <td>0.139</td>\n",
       "      <td>NaN</td>\n",
       "      <td>in situ</td>\n",
       "      <td>9</td>\n",
       "    </tr>\n",
       "    <tr>\n",
       "      <th>2024-10-15</th>\n",
       "      <td>2024.78689</td>\n",
       "      <td>421.397</td>\n",
       "      <td>0.097</td>\n",
       "      <td>NaN</td>\n",
       "      <td>in situ</td>\n",
       "      <td>10</td>\n",
       "    </tr>\n",
       "    <tr>\n",
       "      <th>2024-11-15</th>\n",
       "      <td>2024.87158</td>\n",
       "      <td>421.414</td>\n",
       "      <td>0.156</td>\n",
       "      <td>NaN</td>\n",
       "      <td>in situ</td>\n",
       "      <td>11</td>\n",
       "    </tr>\n",
       "    <tr>\n",
       "      <th>2024-12-15</th>\n",
       "      <td>2024.95355</td>\n",
       "      <td>421.377</td>\n",
       "      <td>0.171</td>\n",
       "      <td>NaN</td>\n",
       "      <td>in situ</td>\n",
       "      <td>12</td>\n",
       "    </tr>\n",
       "  </tbody>\n",
       "</table>\n",
       "</div>"
      ],
      "text/plain": [
       "                  DATE  CO2(ppm)  SD(ppm)  GR(ppm/yr)   Source  month\n",
       "date                                                                 \n",
       "2022-07-15  2022.53425   414.547    0.184     1.87201  in situ      7\n",
       "2022-08-15  2022.61918   415.053    0.178     1.84100  in situ      8\n",
       "2022-09-15  2022.70411   415.279    0.122     1.84702  in situ      9\n",
       "2022-10-15  2022.78630   415.304    0.126     1.89099  in situ     10\n",
       "2022-11-15  2022.87123   415.329    0.117     1.99701  in situ     11\n",
       "2022-12-15  2022.95342   415.190    0.166     2.04501  in situ     12\n",
       "2023-01-15  2023.03836   414.958    0.189     2.00900  in situ      1\n",
       "2023-02-15  2023.12329   414.989    0.169     2.03000  in situ      2\n",
       "2023-03-15  2023.20000   415.174    0.173     2.11401  in situ      3\n",
       "2023-04-15  2023.28493   415.379    0.146     2.27103  in situ      4\n",
       "2023-05-15  2023.36712   415.713    0.164     2.44498  in situ      5\n",
       "2023-06-15  2023.45205   416.113    0.149     2.64999  in situ      6\n",
       "2023-07-15  2023.53425   416.556    0.195     3.01300  in situ      7\n",
       "2023-08-15  2023.61918   417.083    0.204     3.23898  in situ      8\n",
       "2023-09-15  2023.70411   417.393    0.137     3.43399  in situ      9\n",
       "2023-10-15  2023.78630   417.575    0.126     3.69400  in situ     10\n",
       "2023-11-15  2023.87123   417.774    0.185     3.80099  in situ     11\n",
       "2023-12-15  2023.95342   417.840    0.178     3.92099  in situ     12\n",
       "2024-01-15  2024.03825   417.971    0.184     3.90701  in situ      1\n",
       "2024-02-15  2024.12295   418.228    0.210     3.71201  in situ      2\n",
       "2024-03-15  2024.20219   418.608    0.215     3.78699  in situ      3\n",
       "2024-04-15  2024.28689   419.073    0.215     3.82199  in situ      4\n",
       "2024-05-15  2024.36885   419.514    0.199     3.64001  in situ      5\n",
       "2024-06-15  2024.45355   420.034    0.214     3.53702  in situ      6\n",
       "2024-07-15  2024.53552   420.463    0.148         NaN  in situ      7\n",
       "2024-08-15  2024.62022   420.795    0.157         NaN  in situ      8\n",
       "2024-09-15  2024.70492   421.180    0.139         NaN  in situ      9\n",
       "2024-10-15  2024.78689   421.397    0.097         NaN  in situ     10\n",
       "2024-11-15  2024.87158   421.414    0.156         NaN  in situ     11\n",
       "2024-12-15  2024.95355   421.377    0.171         NaN  in situ     12"
      ]
     },
     "execution_count": 35,
     "metadata": {},
     "output_type": "execute_result"
    }
   ],
   "source": [
    "percentile_95 = df[\"CO2(ppm)\"].quantile(.95) # Calculate the 95th percentile\n",
    "df[df[\"CO2(ppm)\"] > percentile_95] # Filter the data for greater than the 95th percentile"
   ]
  },
  {
   "cell_type": "markdown",
   "id": "86cc96e5-e532-496d-a6ba-b14c3afd4f57",
   "metadata": {},
   "source": [
    "This example shows how to use the `sort_values` method on a `DataFrame`. This method sorts values in a `DataFrame` by the column specified as an argument."
   ]
  },
  {
   "cell_type": "code",
   "execution_count": 36,
   "id": "0c65a403-9835-4742-ab2a-177391876b90",
   "metadata": {},
   "outputs": [
    {
     "data": {
      "text/html": [
       "<div>\n",
       "<style scoped>\n",
       "    .dataframe tbody tr th:only-of-type {\n",
       "        vertical-align: middle;\n",
       "    }\n",
       "\n",
       "    .dataframe tbody tr th {\n",
       "        vertical-align: top;\n",
       "    }\n",
       "\n",
       "    .dataframe thead th {\n",
       "        text-align: right;\n",
       "    }\n",
       "</style>\n",
       "<table border=\"1\" class=\"dataframe\">\n",
       "  <thead>\n",
       "    <tr style=\"text-align: right;\">\n",
       "      <th></th>\n",
       "      <th>DATE</th>\n",
       "      <th>CO2(ppm)</th>\n",
       "      <th>SD(ppm)</th>\n",
       "      <th>GR(ppm/yr)</th>\n",
       "      <th>Source</th>\n",
       "      <th>month</th>\n",
       "    </tr>\n",
       "    <tr>\n",
       "      <th>date</th>\n",
       "      <th></th>\n",
       "      <th></th>\n",
       "      <th></th>\n",
       "      <th></th>\n",
       "      <th></th>\n",
       "      <th></th>\n",
       "    </tr>\n",
       "  </thead>\n",
       "  <tbody>\n",
       "    <tr>\n",
       "      <th>1976-05-15</th>\n",
       "      <td>1976.36890</td>\n",
       "      <td>328.861</td>\n",
       "      <td>0.165</td>\n",
       "      <td>NaN</td>\n",
       "      <td>in situ</td>\n",
       "      <td>5</td>\n",
       "    </tr>\n",
       "    <tr>\n",
       "      <th>1976-06-15</th>\n",
       "      <td>1976.45360</td>\n",
       "      <td>328.988</td>\n",
       "      <td>0.285</td>\n",
       "      <td>NaN</td>\n",
       "      <td>in situ</td>\n",
       "      <td>6</td>\n",
       "    </tr>\n",
       "    <tr>\n",
       "      <th>1976-07-15</th>\n",
       "      <td>1976.53550</td>\n",
       "      <td>329.653</td>\n",
       "      <td>0.282</td>\n",
       "      <td>NaN</td>\n",
       "      <td>in situ</td>\n",
       "      <td>7</td>\n",
       "    </tr>\n",
       "    <tr>\n",
       "      <th>1977-01-15</th>\n",
       "      <td>1977.03840</td>\n",
       "      <td>330.529</td>\n",
       "      <td>0.235</td>\n",
       "      <td>2.14697</td>\n",
       "      <td>in situ</td>\n",
       "      <td>1</td>\n",
       "    </tr>\n",
       "    <tr>\n",
       "      <th>1977-02-15</th>\n",
       "      <td>1977.12330</td>\n",
       "      <td>330.543</td>\n",
       "      <td>0.198</td>\n",
       "      <td>1.77701</td>\n",
       "      <td>in situ</td>\n",
       "      <td>2</td>\n",
       "    </tr>\n",
       "    <tr>\n",
       "      <th>...</th>\n",
       "      <td>...</td>\n",
       "      <td>...</td>\n",
       "      <td>...</td>\n",
       "      <td>...</td>\n",
       "      <td>...</td>\n",
       "      <td>...</td>\n",
       "    </tr>\n",
       "    <tr>\n",
       "      <th>2024-08-15</th>\n",
       "      <td>2024.62022</td>\n",
       "      <td>420.795</td>\n",
       "      <td>0.157</td>\n",
       "      <td>NaN</td>\n",
       "      <td>in situ</td>\n",
       "      <td>8</td>\n",
       "    </tr>\n",
       "    <tr>\n",
       "      <th>2024-09-15</th>\n",
       "      <td>2024.70492</td>\n",
       "      <td>421.180</td>\n",
       "      <td>0.139</td>\n",
       "      <td>NaN</td>\n",
       "      <td>in situ</td>\n",
       "      <td>9</td>\n",
       "    </tr>\n",
       "    <tr>\n",
       "      <th>2024-12-15</th>\n",
       "      <td>2024.95355</td>\n",
       "      <td>421.377</td>\n",
       "      <td>0.171</td>\n",
       "      <td>NaN</td>\n",
       "      <td>in situ</td>\n",
       "      <td>12</td>\n",
       "    </tr>\n",
       "    <tr>\n",
       "      <th>2024-10-15</th>\n",
       "      <td>2024.78689</td>\n",
       "      <td>421.397</td>\n",
       "      <td>0.097</td>\n",
       "      <td>NaN</td>\n",
       "      <td>in situ</td>\n",
       "      <td>10</td>\n",
       "    </tr>\n",
       "    <tr>\n",
       "      <th>2024-11-15</th>\n",
       "      <td>2024.87158</td>\n",
       "      <td>421.414</td>\n",
       "      <td>0.156</td>\n",
       "      <td>NaN</td>\n",
       "      <td>in situ</td>\n",
       "      <td>11</td>\n",
       "    </tr>\n",
       "  </tbody>\n",
       "</table>\n",
       "<p>584 rows × 6 columns</p>\n",
       "</div>"
      ],
      "text/plain": [
       "                  DATE  CO2(ppm)  SD(ppm)  GR(ppm/yr)   Source  month\n",
       "date                                                                 \n",
       "1976-05-15  1976.36890   328.861    0.165         NaN  in situ      5\n",
       "1976-06-15  1976.45360   328.988    0.285         NaN  in situ      6\n",
       "1976-07-15  1976.53550   329.653    0.282         NaN  in situ      7\n",
       "1977-01-15  1977.03840   330.529    0.235     2.14697  in situ      1\n",
       "1977-02-15  1977.12330   330.543    0.198     1.77701  in situ      2\n",
       "...                ...       ...      ...         ...      ...    ...\n",
       "2024-08-15  2024.62022   420.795    0.157         NaN  in situ      8\n",
       "2024-09-15  2024.70492   421.180    0.139         NaN  in situ      9\n",
       "2024-12-15  2024.95355   421.377    0.171         NaN  in situ     12\n",
       "2024-10-15  2024.78689   421.397    0.097         NaN  in situ     10\n",
       "2024-11-15  2024.87158   421.414    0.156         NaN  in situ     11\n",
       "\n",
       "[584 rows x 6 columns]"
      ]
     },
     "execution_count": 36,
     "metadata": {},
     "output_type": "execute_result"
    }
   ],
   "source": [
    "df.sort_values('CO2(ppm)')"
   ]
  },
  {
   "cell_type": "markdown",
   "id": "e6ae14f9-173a-4a38-af78-2e8ee758ffd3",
   "metadata": {},
   "source": [
    "You can also reverse the ordering of the sort by specifying the `ascending` keyword argument as `False`:"
   ]
  },
  {
   "cell_type": "code",
   "execution_count": 37,
   "id": "bf05ed68-14d4-4393-9793-d64f7b805ce8",
   "metadata": {},
   "outputs": [
    {
     "data": {
      "text/html": [
       "<div>\n",
       "<style scoped>\n",
       "    .dataframe tbody tr th:only-of-type {\n",
       "        vertical-align: middle;\n",
       "    }\n",
       "\n",
       "    .dataframe tbody tr th {\n",
       "        vertical-align: top;\n",
       "    }\n",
       "\n",
       "    .dataframe thead th {\n",
       "        text-align: right;\n",
       "    }\n",
       "</style>\n",
       "<table border=\"1\" class=\"dataframe\">\n",
       "  <thead>\n",
       "    <tr style=\"text-align: right;\">\n",
       "      <th></th>\n",
       "      <th>DATE</th>\n",
       "      <th>CO2(ppm)</th>\n",
       "      <th>SD(ppm)</th>\n",
       "      <th>GR(ppm/yr)</th>\n",
       "      <th>Source</th>\n",
       "      <th>month</th>\n",
       "    </tr>\n",
       "    <tr>\n",
       "      <th>date</th>\n",
       "      <th></th>\n",
       "      <th></th>\n",
       "      <th></th>\n",
       "      <th></th>\n",
       "      <th></th>\n",
       "      <th></th>\n",
       "    </tr>\n",
       "  </thead>\n",
       "  <tbody>\n",
       "    <tr>\n",
       "      <th>2024-11-15</th>\n",
       "      <td>2024.87158</td>\n",
       "      <td>421.414</td>\n",
       "      <td>0.156</td>\n",
       "      <td>NaN</td>\n",
       "      <td>in situ</td>\n",
       "      <td>11</td>\n",
       "    </tr>\n",
       "    <tr>\n",
       "      <th>2024-10-15</th>\n",
       "      <td>2024.78689</td>\n",
       "      <td>421.397</td>\n",
       "      <td>0.097</td>\n",
       "      <td>NaN</td>\n",
       "      <td>in situ</td>\n",
       "      <td>10</td>\n",
       "    </tr>\n",
       "    <tr>\n",
       "      <th>2024-12-15</th>\n",
       "      <td>2024.95355</td>\n",
       "      <td>421.377</td>\n",
       "      <td>0.171</td>\n",
       "      <td>NaN</td>\n",
       "      <td>in situ</td>\n",
       "      <td>12</td>\n",
       "    </tr>\n",
       "    <tr>\n",
       "      <th>2024-09-15</th>\n",
       "      <td>2024.70492</td>\n",
       "      <td>421.180</td>\n",
       "      <td>0.139</td>\n",
       "      <td>NaN</td>\n",
       "      <td>in situ</td>\n",
       "      <td>9</td>\n",
       "    </tr>\n",
       "    <tr>\n",
       "      <th>2024-08-15</th>\n",
       "      <td>2024.62022</td>\n",
       "      <td>420.795</td>\n",
       "      <td>0.157</td>\n",
       "      <td>NaN</td>\n",
       "      <td>in situ</td>\n",
       "      <td>8</td>\n",
       "    </tr>\n",
       "    <tr>\n",
       "      <th>...</th>\n",
       "      <td>...</td>\n",
       "      <td>...</td>\n",
       "      <td>...</td>\n",
       "      <td>...</td>\n",
       "      <td>...</td>\n",
       "      <td>...</td>\n",
       "    </tr>\n",
       "    <tr>\n",
       "      <th>1977-02-15</th>\n",
       "      <td>1977.12330</td>\n",
       "      <td>330.543</td>\n",
       "      <td>0.198</td>\n",
       "      <td>1.77701</td>\n",
       "      <td>in situ</td>\n",
       "      <td>2</td>\n",
       "    </tr>\n",
       "    <tr>\n",
       "      <th>1977-01-15</th>\n",
       "      <td>1977.03840</td>\n",
       "      <td>330.529</td>\n",
       "      <td>0.235</td>\n",
       "      <td>2.14697</td>\n",
       "      <td>in situ</td>\n",
       "      <td>1</td>\n",
       "    </tr>\n",
       "    <tr>\n",
       "      <th>1976-07-15</th>\n",
       "      <td>1976.53550</td>\n",
       "      <td>329.653</td>\n",
       "      <td>0.282</td>\n",
       "      <td>NaN</td>\n",
       "      <td>in situ</td>\n",
       "      <td>7</td>\n",
       "    </tr>\n",
       "    <tr>\n",
       "      <th>1976-06-15</th>\n",
       "      <td>1976.45360</td>\n",
       "      <td>328.988</td>\n",
       "      <td>0.285</td>\n",
       "      <td>NaN</td>\n",
       "      <td>in situ</td>\n",
       "      <td>6</td>\n",
       "    </tr>\n",
       "    <tr>\n",
       "      <th>1976-05-15</th>\n",
       "      <td>1976.36890</td>\n",
       "      <td>328.861</td>\n",
       "      <td>0.165</td>\n",
       "      <td>NaN</td>\n",
       "      <td>in situ</td>\n",
       "      <td>5</td>\n",
       "    </tr>\n",
       "  </tbody>\n",
       "</table>\n",
       "<p>584 rows × 6 columns</p>\n",
       "</div>"
      ],
      "text/plain": [
       "                  DATE  CO2(ppm)  SD(ppm)  GR(ppm/yr)   Source  month\n",
       "date                                                                 \n",
       "2024-11-15  2024.87158   421.414    0.156         NaN  in situ     11\n",
       "2024-10-15  2024.78689   421.397    0.097         NaN  in situ     10\n",
       "2024-12-15  2024.95355   421.377    0.171         NaN  in situ     12\n",
       "2024-09-15  2024.70492   421.180    0.139         NaN  in situ      9\n",
       "2024-08-15  2024.62022   420.795    0.157         NaN  in situ      8\n",
       "...                ...       ...      ...         ...      ...    ...\n",
       "1977-02-15  1977.12330   330.543    0.198     1.77701  in situ      2\n",
       "1977-01-15  1977.03840   330.529    0.235     2.14697  in situ      1\n",
       "1976-07-15  1976.53550   329.653    0.282         NaN  in situ      7\n",
       "1976-06-15  1976.45360   328.988    0.285         NaN  in situ      6\n",
       "1976-05-15  1976.36890   328.861    0.165         NaN  in situ      5\n",
       "\n",
       "[584 rows x 6 columns]"
      ]
     },
     "execution_count": 37,
     "metadata": {},
     "output_type": "execute_result"
    }
   ],
   "source": [
    "df.sort_values('CO2(ppm)', ascending=False)"
   ]
  },
  {
   "cell_type": "markdown",
   "id": "d0ed1b83-446a-4240-ae7b-70a36305e291",
   "metadata": {},
   "source": [
    "### Resampling\n",
    "In these examples, we illustrate a process known as resampling. Using resampling, you can change the frequency of index data values, reducing so-called 'noise' in a data plot. This is especially useful when working with timeseries data; plots can be equally effective with resampled data in these cases. The resampling performed in these examples converts monthly values to yearly averages. This is performed by passing the value '1YE' to the `resample` method."
   ]
  },
  {
   "cell_type": "code",
   "execution_count": 38,
   "id": "e14160b4-8585-4950-9a27-6ce4d78d771f",
   "metadata": {},
   "outputs": [
    {
     "data": {
      "image/png": "[encoded data removed]",
      "text/plain": [
       "<Figure size 640x480 with 1 Axes>"
      ]
     },
     "metadata": {},
     "output_type": "display_data"
    }
   ],
   "source": [
    "df['CO2(ppm)'].resample('1YE').mean().plot();"
   ]
  },
  {
   "cell_type": "markdown",
   "id": "b4606311-7ed2-4683-92ea-402f89299f8a",
   "metadata": {},
   "source": [
    "### Applying operations to a DataFrame\n",
    "\n",
    "One of the most commonly used features in Pandas is the performing of calculations to multiple data values in a `DataFrame` simultaneously. Let's first look at a familiar concept: a function that converts single values.  The following example uses such a function to convert concentrations from parts ber million (ppm) to parts per billion (ppb):"
   ]
  },
  {
   "cell_type": "code",
   "execution_count": 39,
   "id": "187f20c5-0a4c-4409-b097-7c4b9a7222a5",
   "metadata": {},
   "outputs": [],
   "source": [
    "def convert_ppm_to_ppb(concentration_ppm):\n",
    "    \"\"\"\n",
    "    Converts from parts per million to parts per billion\n",
    "    \"\"\"\n",
    "\n",
    "    return concentration_ppm * 1000"
   ]
  },
  {
   "cell_type": "code",
   "execution_count": 40,
   "id": "cc25744c-7af5-4dbf-b302-1822eb3d2436",
   "metadata": {},
   "outputs": [
    {
     "data": {
      "text/plain": [
       "1000"
      ]
     },
     "execution_count": 40,
     "metadata": {},
     "output_type": "execute_result"
    }
   ],
   "source": [
    "# Convert a single value\n",
    "convert_ppm_to_ppb(1)"
   ]
  },
  {
   "cell_type": "markdown",
   "id": "bd7b7c31-8e6b-44bb-9e5f-bf3625839f78",
   "metadata": {},
   "source": [
    "The following examples instead illustrate a new concept: using such functions with `DataFrames` and `Series`. For the first example, we start by creating a `Series`; in order to do so, we subset the `DataFrame` by the `CO2(ppm)` column. This has already been done earlier in this page; we do not need to create this `Series` again. We are using this particular `Series` for a reason: the data values are in parts per million."
   ]
  },
  {
   "cell_type": "code",
   "execution_count": 41,
   "id": "c6fc0747-7a4b-461f-a849-3ca963d055fd",
   "metadata": {},
   "outputs": [
    {
     "data": {
      "text/plain": [
       "date\n",
       "1976-05-15    328.861\n",
       "1976-06-15    328.988\n",
       "1976-07-15    329.653\n",
       "1976-08-15    330.550\n",
       "1976-09-15    330.872\n",
       "               ...   \n",
       "2024-08-15    420.795\n",
       "2024-09-15    421.180\n",
       "2024-10-15    421.397\n",
       "2024-11-15    421.414\n",
       "2024-12-15    421.377\n",
       "Name: CO2(ppm), Length: 584, dtype: float64"
      ]
     },
     "execution_count": 41,
     "metadata": {},
     "output_type": "execute_result"
    }
   ],
   "source": [
    "co2_series"
   ]
  },
  {
   "cell_type": "markdown",
   "id": "0153329c-850d-458a-9a9a-be1aea345f1d",
   "metadata": {},
   "source": [
    "This example illustrates how to use the temperature-conversion function defined above on a `Series` object. Just as calling the function with a single value returns a single value, calling the function on a `Series` object returns another `Series` object. The function performs the temperature conversion on each data value in the `Series`, and returns a `Series` with all values converted."
   ]
  },
  {
   "cell_type": "code",
   "execution_count": 42,
   "id": "1dec9af7-6100-4def-b895-a80180674a75",
   "metadata": {},
   "outputs": [
    {
     "data": {
      "text/plain": [
       "date\n",
       "1976-05-15    328861.0\n",
       "1976-06-15    328988.0\n",
       "1976-07-15    329653.0\n",
       "1976-08-15    330550.0\n",
       "1976-09-15    330872.0\n",
       "                ...   \n",
       "2024-08-15    420795.0\n",
       "2024-09-15    421180.0\n",
       "2024-10-15    421397.0\n",
       "2024-11-15    421414.0\n",
       "2024-12-15    421377.0\n",
       "Name: CO2(ppm), Length: 584, dtype: float64"
      ]
     },
     "execution_count": 42,
     "metadata": {},
     "output_type": "execute_result"
    }
   ],
   "source": [
    "convert_ppm_to_ppb(co2_series)"
   ]
  },
  {
   "cell_type": "markdown",
   "id": "785a8f10-1eaf-42d3-a029-69e5e2312528",
   "metadata": {},
   "source": [
    "If we call the `.values` method on the `Series` passed to the function, the `Series` is converted to a numpy array, as described above. The function then converts each value in the numpy array, and returns a new numpy array with all values sorted."
   ]
  },
  {
   "cell_type": "markdown",
   "id": "8f45b173-f81b-4a1e-bec9-0cd6a8393bc1",
   "metadata": {},
   "source": [
    "<div class=\"admonition alert alert-warning\">\n",
    "    <p class=\"admonition-title\" style=\"font-weight:bold\">Warning</p>\n",
    "    It is recommended to only convert <code>Series</code> to NumPy arrays when necessary; doing so removes the label information that enables much of the Pandas core functionality.\n",
    "</div>"
   ]
  },
  {
   "cell_type": "code",
   "execution_count": 43,
   "id": "5bdbe610-09bc-493f-97ab-45f527100132",
   "metadata": {},
   "outputs": [
    {
     "data": {
      "text/plain": [
       "array([328861., 328988., 329653., 330550., 330872., 330899., 330883.,\n",
       "       330677., 330529., 330543., 330724., 330805., 331007., 331500.,\n",
       "       331800., 332327., 332940., 333034., 332778., 332377., 332094.,\n",
       "       332175., 332398., 332474., 332646., 333015., 333317., 333926.,\n",
       "       334977., 335333., 334826., 334531., 334498., 334585., 334763.,\n",
       "       334703., 334626., 334889., 335452., 335936., 335981., 335979.,\n",
       "       335971., 335733., 335678., 335778., 335898., 336057., 336185.,\n",
       "       336532., 336930., 337096., 337190., 337116., 336938., 336916.,\n",
       "       337089., 337230., 337226., 337174., 337346., 337587., 337832.,\n",
       "       338093., 338165., 338072., 338000., 337768., 337306., 337127.,\n",
       "       337274., 337698., 338032., 338186., 338551., 338898., 338822.,\n",
       "       338634., 338557., 338328., 338307., 338427., 338519., 339115.,\n",
       "       339532., 339601., 340338., 341204., 341354., 341257., 341296.,\n",
       "       341307., 341273., 341271., 341242., 341232., 341390., 341620.,\n",
       "       341935., 342359., 342508., 342472., 342426., 342342., 342329.,\n",
       "       342289., 342319., 342488., 342768., 343159., 343656., 344069.,\n",
       "       344197., 344195., 343945., 343710., 343715., 343741., 343765.,\n",
       "       343784., 343917., 344236., 344685., 345057., 345237., 345307.,\n",
       "       345205., 344955., 344717., 344702., 344858., 345053., 345442.,\n",
       "       346005., 346472., 346965., 347257., 347303., 347406., 347405.,\n",
       "       347357., 347368., 347428., 347607., 347812., 348252., 348912.,\n",
       "       349156., 349051., 348948., 348872., 348832., 348717., 348756.,\n",
       "       348976., 349056., 349065., 349297., 349682., 350047., 350222.,\n",
       "       350147., 350072., 349966., 349849., 349894., 350055., 350350.,\n",
       "       350612., 350892., 351374., 351736., 351773., 351784., 351808.,\n",
       "       351614., 351454., 351551., 351705., 351879., 352283., 352654.,\n",
       "       352860., 353191., 353328., 353925., 353679., 353567., 353356.,\n",
       "       353235., 353170., 353356., 353733., 354173., 354695., 354897.,\n",
       "       355029., 355083., 354862., 354606., 354278., 354203., 354423.,\n",
       "       354358., 354326., 354763., 355237., 355656., 355882., 355923.,\n",
       "       355828., 355517., 355152., 355132., 355454., 355741., 355962.,\n",
       "       356230., 356716., 357281., 357606., 357625., 357507., 357472.,\n",
       "       357535., 357610., 357600., 357588., 357891., 358293., 358580.,\n",
       "       358916., 359199., 359310., 359381., 359643., 359537., 359193.,\n",
       "       359188., 359234., 359422., 359914., 360339., 360675., 360815.,\n",
       "       360685., 360534., 360407., 360424., 360546., 360591., 360654.,\n",
       "       360817., 361026., 361423., 361885., 362148., 362282., 362257.,\n",
       "       362205., 362182., 362320., 362617., 362895., 363258., 363684.,\n",
       "       364198., 364816., 365188., 365204., 365074., 364992., 365126.,\n",
       "       365177., 364993., 365050., 365286., 365438., 365726., 366161.,\n",
       "       366522., 366670., 366609., 366619., 366665., 366468., 366238.,\n",
       "       366171., 366388., 366839., 367242., 367486., 367706., 367827.,\n",
       "       367756., 367663., 367606., 367547., 367537., 367701., 367931.,\n",
       "       368176., 368586., 369133., 369631., 369760., 369559., 369413.,\n",
       "       369481., 369544., 369601., 369763., 370011., 370477., 371049.,\n",
       "       371539., 371878., 372010., 371896., 371706., 371674., 371752.,\n",
       "       371954., 372235., 372521., 372865., 373325., 373860., 374156.,\n",
       "       374079., 373862., 373680., 373647., 373776., 373869., 374021.,\n",
       "       374415., 374896., 375298., 375639., 375795., 375817., 375812.,\n",
       "       375632., 375477., 375522., 375553., 375688., 376289., 377049.,\n",
       "       377418., 377703., 377979., 378053., 377999., 377886., 377972.,\n",
       "       378104., 378120., 378180., 378303., 378537., 378929., 379381.,\n",
       "       379604., 379534., 379491., 379566., 379492., 379459., 379568.,\n",
       "       379766., 380139., 380527., 381033., 381451., 381660., 381786.,\n",
       "       381764., 381718., 381779., 381859., 381867., 381961., 382229.,\n",
       "       382729., 383071., 383434., 383839., 383796., 383645., 383723.,\n",
       "       383962., 383925., 383598., 383502., 383728., 384019., 384418.,\n",
       "       384884., 385100., 385212., 385190., 385108., 385072., 384815.,\n",
       "       384720., 385016., 385399., 385904., 386568., 387212., 387560.,\n",
       "       387555., 387408., 387166., 387018., 387090., 387147., 387156.,\n",
       "       387403., 387833., 388198., 388634., 389129., 389260., 389072.,\n",
       "       388944., 388817., 388789., 388827., 388999., 389287., 389713.,\n",
       "       390377., 391050., 391480., 391518., 391319., 391238., 391298.,\n",
       "       391526., 391859., 392160., 392465., 392806., 393387., 393891.,\n",
       "       394075., 394102., 394076., 393945., 393791., 393818., 394003.,\n",
       "       394208., 394378., 394788., 395339., 395777., 396002., 395992.,\n",
       "       395948., 395889., 395922., 396062., 396203., 396527., 396943.,\n",
       "       397260., 397755., 398314., 398507., 398542., 398663., 398776.,\n",
       "       398902., 399073., 399333., 399782., 400294., 400802., 401288.,\n",
       "       401589., 401765., 401803., 401542., 401349., 401284., 401228.,\n",
       "       401316., 401597., 401873., 402182., 402821., 403405., 403616.,\n",
       "       403748., 403860., 403858., 403919., 403979., 404036., 404260.,\n",
       "       404518., 404817., 405305., 405770., 405970., 405993., 405918.,\n",
       "       405872., 405843., 405758., 405895., 406308., 406847., 407432.,\n",
       "       408038., 408504., 408728., 408886., 408906., 408670., 408418.,\n",
       "       408494., 408750., 408984., 409236., 409660., 410236., 410700.,\n",
       "       410922., 410995., 410904., 410787., 410719., 410718., 410876.,\n",
       "       411005., 411197., 411617., 412127., 412633., 413017., 413156.,\n",
       "       413192., 413170., 413086., 413148., 413327., 413488., 413716.,\n",
       "       414068., 414547., 415053., 415279., 415304., 415329., 415190.,\n",
       "       414958., 414989., 415174., 415379., 415713., 416113., 416556.,\n",
       "       417083., 417393., 417575., 417774., 417840., 417971., 418228.,\n",
       "       418608., 419073., 419514., 420034., 420463., 420795., 421180.,\n",
       "       421397., 421414., 421377.])"
      ]
     },
     "execution_count": 43,
     "metadata": {},
     "output_type": "execute_result"
    }
   ],
   "source": [
    "convert_ppm_to_ppb(co2_series.values)"
   ]
  },
  {
   "cell_type": "markdown",
   "id": "5b7b7cb6-73d3-4b47-a732-ce1fb51888b4",
   "metadata": {},
   "source": [
    "As described above, when our temperature-conversion function accepts a `Series` as an argument, it returns a `Series`. We can directly assign this returned `Series` to a new column in our `DataFrame`, as shown below:"
   ]
  },
  {
   "cell_type": "code",
   "execution_count": 44,
   "id": "5037b661-930f-4d8d-8c94-c5c4fe0faf3b",
   "metadata": {},
   "outputs": [
    {
     "data": {
      "text/plain": [
       "date\n",
       "1976-05-15    328861.0\n",
       "1976-06-15    328988.0\n",
       "1976-07-15    329653.0\n",
       "1976-08-15    330550.0\n",
       "1976-09-15    330872.0\n",
       "                ...   \n",
       "2024-08-15    420795.0\n",
       "2024-09-15    421180.0\n",
       "2024-10-15    421397.0\n",
       "2024-11-15    421414.0\n",
       "2024-12-15    421377.0\n",
       "Name: CO2(ppb), Length: 584, dtype: float64"
      ]
     },
     "execution_count": 44,
     "metadata": {},
     "output_type": "execute_result"
    }
   ],
   "source": [
    "df['CO2(ppb)'] =convert_ppm_to_ppb(co2_series)\n",
    "df['CO2(ppb)']"
   ]
  },
  {
   "cell_type": "markdown",
   "id": "7217a122-68ef-408c-a41d-5ca495ab963c",
   "metadata": {},
   "source": [
    "In this final example, we demonstrate the use of the `to_csv` method to save a `DataFrame` as a `.csv` file. This example also demonstrates the `read_csv` method, which reads `.csv` files into Pandas `DataFrames`."
   ]
  },
  {
   "cell_type": "code",
   "execution_count": 45,
   "id": "d2d0c9be-f4f6-4c04-b966-a7da2aae9e20",
   "metadata": {},
   "outputs": [],
   "source": [
    "df.to_csv(\"CapeGrim_CO2_data_analyzed.csv\")"
   ]
  },
  {
   "cell_type": "code",
   "execution_count": 46,
   "id": "efe7cc4a-73ec-4c9c-bb31-52a0cd060276",
   "metadata": {},
   "outputs": [
    {
     "data": {
      "text/html": [
       "<div>\n",
       "<style scoped>\n",
       "    .dataframe tbody tr th:only-of-type {\n",
       "        vertical-align: middle;\n",
       "    }\n",
       "\n",
       "    .dataframe tbody tr th {\n",
       "        vertical-align: top;\n",
       "    }\n",
       "\n",
       "    .dataframe thead th {\n",
       "        text-align: right;\n",
       "    }\n",
       "</style>\n",
       "<table border=\"1\" class=\"dataframe\">\n",
       "  <thead>\n",
       "    <tr style=\"text-align: right;\">\n",
       "      <th></th>\n",
       "      <th>DATE</th>\n",
       "      <th>CO2(ppm)</th>\n",
       "      <th>SD(ppm)</th>\n",
       "      <th>GR(ppm/yr)</th>\n",
       "      <th>Source</th>\n",
       "      <th>month</th>\n",
       "      <th>CO2(ppb)</th>\n",
       "    </tr>\n",
       "    <tr>\n",
       "      <th>date</th>\n",
       "      <th></th>\n",
       "      <th></th>\n",
       "      <th></th>\n",
       "      <th></th>\n",
       "      <th></th>\n",
       "      <th></th>\n",
       "      <th></th>\n",
       "    </tr>\n",
       "  </thead>\n",
       "  <tbody>\n",
       "    <tr>\n",
       "      <th>1976-05-15</th>\n",
       "      <td>1976.36890</td>\n",
       "      <td>328.861</td>\n",
       "      <td>0.165</td>\n",
       "      <td>NaN</td>\n",
       "      <td>in situ</td>\n",
       "      <td>5</td>\n",
       "      <td>328861.0</td>\n",
       "    </tr>\n",
       "    <tr>\n",
       "      <th>1976-06-15</th>\n",
       "      <td>1976.45360</td>\n",
       "      <td>328.988</td>\n",
       "      <td>0.285</td>\n",
       "      <td>NaN</td>\n",
       "      <td>in situ</td>\n",
       "      <td>6</td>\n",
       "      <td>328988.0</td>\n",
       "    </tr>\n",
       "    <tr>\n",
       "      <th>1976-07-15</th>\n",
       "      <td>1976.53550</td>\n",
       "      <td>329.653</td>\n",
       "      <td>0.282</td>\n",
       "      <td>NaN</td>\n",
       "      <td>in situ</td>\n",
       "      <td>7</td>\n",
       "      <td>329653.0</td>\n",
       "    </tr>\n",
       "    <tr>\n",
       "      <th>1976-08-15</th>\n",
       "      <td>1976.62020</td>\n",
       "      <td>330.550</td>\n",
       "      <td>0.201</td>\n",
       "      <td>NaN</td>\n",
       "      <td>in situ</td>\n",
       "      <td>8</td>\n",
       "      <td>330550.0</td>\n",
       "    </tr>\n",
       "    <tr>\n",
       "      <th>1976-09-15</th>\n",
       "      <td>1976.70490</td>\n",
       "      <td>330.872</td>\n",
       "      <td>0.234</td>\n",
       "      <td>NaN</td>\n",
       "      <td>in situ</td>\n",
       "      <td>9</td>\n",
       "      <td>330872.0</td>\n",
       "    </tr>\n",
       "    <tr>\n",
       "      <th>...</th>\n",
       "      <td>...</td>\n",
       "      <td>...</td>\n",
       "      <td>...</td>\n",
       "      <td>...</td>\n",
       "      <td>...</td>\n",
       "      <td>...</td>\n",
       "      <td>...</td>\n",
       "    </tr>\n",
       "    <tr>\n",
       "      <th>2024-08-15</th>\n",
       "      <td>2024.62022</td>\n",
       "      <td>420.795</td>\n",
       "      <td>0.157</td>\n",
       "      <td>NaN</td>\n",
       "      <td>in situ</td>\n",
       "      <td>8</td>\n",
       "      <td>420795.0</td>\n",
       "    </tr>\n",
       "    <tr>\n",
       "      <th>2024-09-15</th>\n",
       "      <td>2024.70492</td>\n",
       "      <td>421.180</td>\n",
       "      <td>0.139</td>\n",
       "      <td>NaN</td>\n",
       "      <td>in situ</td>\n",
       "      <td>9</td>\n",
       "      <td>421180.0</td>\n",
       "    </tr>\n",
       "    <tr>\n",
       "      <th>2024-10-15</th>\n",
       "      <td>2024.78689</td>\n",
       "      <td>421.397</td>\n",
       "      <td>0.097</td>\n",
       "      <td>NaN</td>\n",
       "      <td>in situ</td>\n",
       "      <td>10</td>\n",
       "      <td>421397.0</td>\n",
       "    </tr>\n",
       "    <tr>\n",
       "      <th>2024-11-15</th>\n",
       "      <td>2024.87158</td>\n",
       "      <td>421.414</td>\n",
       "      <td>0.156</td>\n",
       "      <td>NaN</td>\n",
       "      <td>in situ</td>\n",
       "      <td>11</td>\n",
       "      <td>421414.0</td>\n",
       "    </tr>\n",
       "    <tr>\n",
       "      <th>2024-12-15</th>\n",
       "      <td>2024.95355</td>\n",
       "      <td>421.377</td>\n",
       "      <td>0.171</td>\n",
       "      <td>NaN</td>\n",
       "      <td>in situ</td>\n",
       "      <td>12</td>\n",
       "      <td>421377.0</td>\n",
       "    </tr>\n",
       "  </tbody>\n",
       "</table>\n",
       "<p>584 rows × 7 columns</p>\n",
       "</div>"
      ],
      "text/plain": [
       "                  DATE  CO2(ppm)  SD(ppm)  GR(ppm/yr)   Source  month  \\\n",
       "date                                                                    \n",
       "1976-05-15  1976.36890   328.861    0.165         NaN  in situ      5   \n",
       "1976-06-15  1976.45360   328.988    0.285         NaN  in situ      6   \n",
       "1976-07-15  1976.53550   329.653    0.282         NaN  in situ      7   \n",
       "1976-08-15  1976.62020   330.550    0.201         NaN  in situ      8   \n",
       "1976-09-15  1976.70490   330.872    0.234         NaN  in situ      9   \n",
       "...                ...       ...      ...         ...      ...    ...   \n",
       "2024-08-15  2024.62022   420.795    0.157         NaN  in situ      8   \n",
       "2024-09-15  2024.70492   421.180    0.139         NaN  in situ      9   \n",
       "2024-10-15  2024.78689   421.397    0.097         NaN  in situ     10   \n",
       "2024-11-15  2024.87158   421.414    0.156         NaN  in situ     11   \n",
       "2024-12-15  2024.95355   421.377    0.171         NaN  in situ     12   \n",
       "\n",
       "            CO2(ppb)  \n",
       "date                  \n",
       "1976-05-15  328861.0  \n",
       "1976-06-15  328988.0  \n",
       "1976-07-15  329653.0  \n",
       "1976-08-15  330550.0  \n",
       "1976-09-15  330872.0  \n",
       "...              ...  \n",
       "2024-08-15  420795.0  \n",
       "2024-09-15  421180.0  \n",
       "2024-10-15  421397.0  \n",
       "2024-11-15  421414.0  \n",
       "2024-12-15  421377.0  \n",
       "\n",
       "[584 rows x 7 columns]"
      ]
     },
     "execution_count": 46,
     "metadata": {},
     "output_type": "execute_result"
    }
   ],
   "source": [
    "pd.read_csv('CapeGrim_CO2_data_analyzed.csv', index_col=0, parse_dates=True)"
   ]
  },
  {
   "cell_type": "markdown",
   "id": "d9446910-8708-4993-be2c-1e3610a8b37c",
   "metadata": {},
   "source": [
    "---\n",
    "## Summary\n",
    "* Pandas is a very powerful tool for working with tabular (i.e., spreadsheet-style) data\n",
    "* There are multiple ways of subsetting your pandas dataframe or series\n",
    "* Pandas allows you to refer to subsets of data by label, which generally makes code more readable and more robust\n",
    "* Pandas can be helpful for exploratory data analysis, including plotting and basic statistics\n",
    "* One can apply calculations to pandas dataframes and save the output via `csv` files\n",
    "\n",
    "### What's Next?\n",
    "In the next notebook, we will take a look at how to work with cloud radar/remote sensing data.\n",
    "\n",
    "## Resources and References\n",
    "1. [CSIRO Data Page](https://www.csiro.au/en/research/natural-environment/atmosphere/latest-greenhouse-gas-data)\n",
    "1. [Getting Started with Pandas](https://pandas.pydata.org/docs/getting_started/index.html#getting-started)\n",
    "1. [Pandas User Guide](https://pandas.pydata.org/docs/user_guide/index.html#user-guide)"
   ]
  },
  {
   "cell_type": "code",
   "execution_count": null,
   "id": "c87f4cad-836b-4202-9d30-0c6db6010535",
   "metadata": {},
   "outputs": [],
   "source": []
  }
 ],
 "metadata": {
  "kernelspec": {
   "display_name": "Python 3 (ipykernel)",
   "language": "python",
   "name": "python3"
  },
  "language_info": {
   "codemirror_mode": {
    "name": "ipython",
    "version": 3
   },
   "file_extension": ".py",
   "mimetype": "text/x-python",
   "name": "python",
   "nbconvert_exporter": "python",
   "pygments_lexer": "ipython3",
   "version": "3.12.7"
  }
 },
 "nbformat": 4,
 "nbformat_minor": 5
}
